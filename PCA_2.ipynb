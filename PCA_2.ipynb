{
  "cells": [
    {
      "cell_type": "markdown",
      "id": "173f9082",
      "metadata": {
        "id": "173f9082"
      },
      "source": [
        "## Problem Statement\n",
        "Perform Principal component analysis and perform clustering using first 3 principal component scores (both heirarchial and k mean clustering(scree plot or elbow curve) and obtain \n",
        "optimum number of clusters and check whether we have obtained same number of clusters with the original data "
      ]
    },
    {
      "cell_type": "code",
      "execution_count": 1,
      "id": "9139dd72",
      "metadata": {
        "id": "9139dd72"
      },
      "outputs": [],
      "source": [
        "# importing Dependencies\n",
        "import pandas as pd\n",
        "import numpy as np\n",
        "import matplotlib.pyplot as plt\n",
        "import seaborn as sns\n",
        "from sklearn.decomposition import PCA"
      ]
    },
    {
      "cell_type": "code",
      "execution_count": 2,
      "id": "9c45130c",
      "metadata": {
        "id": "9c45130c"
      },
      "outputs": [],
      "source": [
        "df = pd.read_csv(r'/content/wine.csv')"
      ]
    },
    {
      "cell_type": "markdown",
      "id": "a96d346f",
      "metadata": {
        "id": "a96d346f"
      },
      "source": [
        "## EDA "
      ]
    },
    {
      "cell_type": "code",
      "execution_count": 3,
      "id": "5ed4180b",
      "metadata": {
        "colab": {
          "base_uri": "https://localhost:8080/",
          "height": 268
        },
        "id": "5ed4180b",
        "outputId": "ad822e2d-b055-4c0d-a6dd-52be85f37b2d"
      },
      "outputs": [
        {
          "output_type": "execute_result",
          "data": {
            "text/plain": [
              "   Type  Alcohol  Malic   Ash  Alcalinity  Magnesium  Phenols  Flavanoids  \\\n",
              "0     1    14.23   1.71  2.43        15.6        127     2.80        3.06   \n",
              "1     1    13.20   1.78  2.14        11.2        100     2.65        2.76   \n",
              "2     1    13.16   2.36  2.67        18.6        101     2.80        3.24   \n",
              "3     1    14.37   1.95  2.50        16.8        113     3.85        3.49   \n",
              "4     1    13.24   2.59  2.87        21.0        118     2.80        2.69   \n",
              "\n",
              "   Nonflavanoids  Proanthocyanins  Color   Hue  Dilution  Proline  \n",
              "0           0.28             2.29   5.64  1.04      3.92     1065  \n",
              "1           0.26             1.28   4.38  1.05      3.40     1050  \n",
              "2           0.30             2.81   5.68  1.03      3.17     1185  \n",
              "3           0.24             2.18   7.80  0.86      3.45     1480  \n",
              "4           0.39             1.82   4.32  1.04      2.93      735  "
            ],
            "text/html": [
              "\n",
              "  <div id=\"df-93e113f3-0590-4845-ae47-e173e1bc205c\">\n",
              "    <div class=\"colab-df-container\">\n",
              "      <div>\n",
              "<style scoped>\n",
              "    .dataframe tbody tr th:only-of-type {\n",
              "        vertical-align: middle;\n",
              "    }\n",
              "\n",
              "    .dataframe tbody tr th {\n",
              "        vertical-align: top;\n",
              "    }\n",
              "\n",
              "    .dataframe thead th {\n",
              "        text-align: right;\n",
              "    }\n",
              "</style>\n",
              "<table border=\"1\" class=\"dataframe\">\n",
              "  <thead>\n",
              "    <tr style=\"text-align: right;\">\n",
              "      <th></th>\n",
              "      <th>Type</th>\n",
              "      <th>Alcohol</th>\n",
              "      <th>Malic</th>\n",
              "      <th>Ash</th>\n",
              "      <th>Alcalinity</th>\n",
              "      <th>Magnesium</th>\n",
              "      <th>Phenols</th>\n",
              "      <th>Flavanoids</th>\n",
              "      <th>Nonflavanoids</th>\n",
              "      <th>Proanthocyanins</th>\n",
              "      <th>Color</th>\n",
              "      <th>Hue</th>\n",
              "      <th>Dilution</th>\n",
              "      <th>Proline</th>\n",
              "    </tr>\n",
              "  </thead>\n",
              "  <tbody>\n",
              "    <tr>\n",
              "      <th>0</th>\n",
              "      <td>1</td>\n",
              "      <td>14.23</td>\n",
              "      <td>1.71</td>\n",
              "      <td>2.43</td>\n",
              "      <td>15.6</td>\n",
              "      <td>127</td>\n",
              "      <td>2.80</td>\n",
              "      <td>3.06</td>\n",
              "      <td>0.28</td>\n",
              "      <td>2.29</td>\n",
              "      <td>5.64</td>\n",
              "      <td>1.04</td>\n",
              "      <td>3.92</td>\n",
              "      <td>1065</td>\n",
              "    </tr>\n",
              "    <tr>\n",
              "      <th>1</th>\n",
              "      <td>1</td>\n",
              "      <td>13.20</td>\n",
              "      <td>1.78</td>\n",
              "      <td>2.14</td>\n",
              "      <td>11.2</td>\n",
              "      <td>100</td>\n",
              "      <td>2.65</td>\n",
              "      <td>2.76</td>\n",
              "      <td>0.26</td>\n",
              "      <td>1.28</td>\n",
              "      <td>4.38</td>\n",
              "      <td>1.05</td>\n",
              "      <td>3.40</td>\n",
              "      <td>1050</td>\n",
              "    </tr>\n",
              "    <tr>\n",
              "      <th>2</th>\n",
              "      <td>1</td>\n",
              "      <td>13.16</td>\n",
              "      <td>2.36</td>\n",
              "      <td>2.67</td>\n",
              "      <td>18.6</td>\n",
              "      <td>101</td>\n",
              "      <td>2.80</td>\n",
              "      <td>3.24</td>\n",
              "      <td>0.30</td>\n",
              "      <td>2.81</td>\n",
              "      <td>5.68</td>\n",
              "      <td>1.03</td>\n",
              "      <td>3.17</td>\n",
              "      <td>1185</td>\n",
              "    </tr>\n",
              "    <tr>\n",
              "      <th>3</th>\n",
              "      <td>1</td>\n",
              "      <td>14.37</td>\n",
              "      <td>1.95</td>\n",
              "      <td>2.50</td>\n",
              "      <td>16.8</td>\n",
              "      <td>113</td>\n",
              "      <td>3.85</td>\n",
              "      <td>3.49</td>\n",
              "      <td>0.24</td>\n",
              "      <td>2.18</td>\n",
              "      <td>7.80</td>\n",
              "      <td>0.86</td>\n",
              "      <td>3.45</td>\n",
              "      <td>1480</td>\n",
              "    </tr>\n",
              "    <tr>\n",
              "      <th>4</th>\n",
              "      <td>1</td>\n",
              "      <td>13.24</td>\n",
              "      <td>2.59</td>\n",
              "      <td>2.87</td>\n",
              "      <td>21.0</td>\n",
              "      <td>118</td>\n",
              "      <td>2.80</td>\n",
              "      <td>2.69</td>\n",
              "      <td>0.39</td>\n",
              "      <td>1.82</td>\n",
              "      <td>4.32</td>\n",
              "      <td>1.04</td>\n",
              "      <td>2.93</td>\n",
              "      <td>735</td>\n",
              "    </tr>\n",
              "  </tbody>\n",
              "</table>\n",
              "</div>\n",
              "      <button class=\"colab-df-convert\" onclick=\"convertToInteractive('df-93e113f3-0590-4845-ae47-e173e1bc205c')\"\n",
              "              title=\"Convert this dataframe to an interactive table.\"\n",
              "              style=\"display:none;\">\n",
              "        \n",
              "  <svg xmlns=\"http://www.w3.org/2000/svg\" height=\"24px\"viewBox=\"0 0 24 24\"\n",
              "       width=\"24px\">\n",
              "    <path d=\"M0 0h24v24H0V0z\" fill=\"none\"/>\n",
              "    <path d=\"M18.56 5.44l.94 2.06.94-2.06 2.06-.94-2.06-.94-.94-2.06-.94 2.06-2.06.94zm-11 1L8.5 8.5l.94-2.06 2.06-.94-2.06-.94L8.5 2.5l-.94 2.06-2.06.94zm10 10l.94 2.06.94-2.06 2.06-.94-2.06-.94-.94-2.06-.94 2.06-2.06.94z\"/><path d=\"M17.41 7.96l-1.37-1.37c-.4-.4-.92-.59-1.43-.59-.52 0-1.04.2-1.43.59L10.3 9.45l-7.72 7.72c-.78.78-.78 2.05 0 2.83L4 21.41c.39.39.9.59 1.41.59.51 0 1.02-.2 1.41-.59l7.78-7.78 2.81-2.81c.8-.78.8-2.07 0-2.86zM5.41 20L4 18.59l7.72-7.72 1.47 1.35L5.41 20z\"/>\n",
              "  </svg>\n",
              "      </button>\n",
              "      \n",
              "  <style>\n",
              "    .colab-df-container {\n",
              "      display:flex;\n",
              "      flex-wrap:wrap;\n",
              "      gap: 12px;\n",
              "    }\n",
              "\n",
              "    .colab-df-convert {\n",
              "      background-color: #E8F0FE;\n",
              "      border: none;\n",
              "      border-radius: 50%;\n",
              "      cursor: pointer;\n",
              "      display: none;\n",
              "      fill: #1967D2;\n",
              "      height: 32px;\n",
              "      padding: 0 0 0 0;\n",
              "      width: 32px;\n",
              "    }\n",
              "\n",
              "    .colab-df-convert:hover {\n",
              "      background-color: #E2EBFA;\n",
              "      box-shadow: 0px 1px 2px rgba(60, 64, 67, 0.3), 0px 1px 3px 1px rgba(60, 64, 67, 0.15);\n",
              "      fill: #174EA6;\n",
              "    }\n",
              "\n",
              "    [theme=dark] .colab-df-convert {\n",
              "      background-color: #3B4455;\n",
              "      fill: #D2E3FC;\n",
              "    }\n",
              "\n",
              "    [theme=dark] .colab-df-convert:hover {\n",
              "      background-color: #434B5C;\n",
              "      box-shadow: 0px 1px 3px 1px rgba(0, 0, 0, 0.15);\n",
              "      filter: drop-shadow(0px 1px 2px rgba(0, 0, 0, 0.3));\n",
              "      fill: #FFFFFF;\n",
              "    }\n",
              "  </style>\n",
              "\n",
              "      <script>\n",
              "        const buttonEl =\n",
              "          document.querySelector('#df-93e113f3-0590-4845-ae47-e173e1bc205c button.colab-df-convert');\n",
              "        buttonEl.style.display =\n",
              "          google.colab.kernel.accessAllowed ? 'block' : 'none';\n",
              "\n",
              "        async function convertToInteractive(key) {\n",
              "          const element = document.querySelector('#df-93e113f3-0590-4845-ae47-e173e1bc205c');\n",
              "          const dataTable =\n",
              "            await google.colab.kernel.invokeFunction('convertToInteractive',\n",
              "                                                     [key], {});\n",
              "          if (!dataTable) return;\n",
              "\n",
              "          const docLinkHtml = 'Like what you see? Visit the ' +\n",
              "            '<a target=\"_blank\" href=https://colab.research.google.com/notebooks/data_table.ipynb>data table notebook</a>'\n",
              "            + ' to learn more about interactive tables.';\n",
              "          element.innerHTML = '';\n",
              "          dataTable['output_type'] = 'display_data';\n",
              "          await google.colab.output.renderOutput(dataTable, element);\n",
              "          const docLink = document.createElement('div');\n",
              "          docLink.innerHTML = docLinkHtml;\n",
              "          element.appendChild(docLink);\n",
              "        }\n",
              "      </script>\n",
              "    </div>\n",
              "  </div>\n",
              "  "
            ]
          },
          "metadata": {},
          "execution_count": 3
        }
      ],
      "source": [
        "df.head()"
      ]
    },
    {
      "cell_type": "code",
      "execution_count": 4,
      "id": "c5d5c31a",
      "metadata": {
        "colab": {
          "base_uri": "https://localhost:8080/"
        },
        "id": "c5d5c31a",
        "outputId": "fc36a7c0-9522-4641-e252-75f82931cb0d"
      },
      "outputs": [
        {
          "output_type": "execute_result",
          "data": {
            "text/plain": [
              "(178, 14)"
            ]
          },
          "metadata": {},
          "execution_count": 4
        }
      ],
      "source": [
        "df.shape"
      ]
    },
    {
      "cell_type": "code",
      "execution_count": 5,
      "id": "7c8becfe",
      "metadata": {
        "colab": {
          "base_uri": "https://localhost:8080/"
        },
        "id": "7c8becfe",
        "outputId": "10963c7c-c876-4669-8818-80bb330f7541"
      },
      "outputs": [
        {
          "output_type": "execute_result",
          "data": {
            "text/plain": [
              "Type                 int64\n",
              "Alcohol            float64\n",
              "Malic              float64\n",
              "Ash                float64\n",
              "Alcalinity         float64\n",
              "Magnesium            int64\n",
              "Phenols            float64\n",
              "Flavanoids         float64\n",
              "Nonflavanoids      float64\n",
              "Proanthocyanins    float64\n",
              "Color              float64\n",
              "Hue                float64\n",
              "Dilution           float64\n",
              "Proline              int64\n",
              "dtype: object"
            ]
          },
          "metadata": {},
          "execution_count": 5
        }
      ],
      "source": [
        "df.dtypes"
      ]
    },
    {
      "cell_type": "code",
      "execution_count": 6,
      "id": "1743e37b",
      "metadata": {
        "colab": {
          "base_uri": "https://localhost:8080/"
        },
        "id": "1743e37b",
        "outputId": "29225691-49ac-4afd-b10d-14a906ca5110"
      },
      "outputs": [
        {
          "output_type": "stream",
          "name": "stdout",
          "text": [
            "<class 'pandas.core.frame.DataFrame'>\n",
            "RangeIndex: 178 entries, 0 to 177\n",
            "Data columns (total 14 columns):\n",
            " #   Column           Non-Null Count  Dtype  \n",
            "---  ------           --------------  -----  \n",
            " 0   Type             178 non-null    int64  \n",
            " 1   Alcohol          178 non-null    float64\n",
            " 2   Malic            178 non-null    float64\n",
            " 3   Ash              178 non-null    float64\n",
            " 4   Alcalinity       178 non-null    float64\n",
            " 5   Magnesium        178 non-null    int64  \n",
            " 6   Phenols          178 non-null    float64\n",
            " 7   Flavanoids       178 non-null    float64\n",
            " 8   Nonflavanoids    178 non-null    float64\n",
            " 9   Proanthocyanins  178 non-null    float64\n",
            " 10  Color            178 non-null    float64\n",
            " 11  Hue              178 non-null    float64\n",
            " 12  Dilution         178 non-null    float64\n",
            " 13  Proline          178 non-null    int64  \n",
            "dtypes: float64(11), int64(3)\n",
            "memory usage: 19.6 KB\n"
          ]
        }
      ],
      "source": [
        "df.info()"
      ]
    },
    {
      "cell_type": "markdown",
      "id": "4a1ceafc",
      "metadata": {
        "id": "4a1ceafc"
      },
      "source": [
        "## Correlation, Skewness & Kurtosis"
      ]
    },
    {
      "cell_type": "code",
      "execution_count": 7,
      "id": "7d7dca8c",
      "metadata": {
        "colab": {
          "base_uri": "https://localhost:8080/",
          "height": 547
        },
        "id": "7d7dca8c",
        "outputId": "5da3cb02-7a17-4ec7-afc2-f6725c7d5b3a"
      },
      "outputs": [
        {
          "output_type": "execute_result",
          "data": {
            "text/plain": [
              "                     Type   Alcohol     Malic       Ash  Alcalinity  \\\n",
              "Type             1.000000 -0.328222  0.437776 -0.049643    0.517859   \n",
              "Alcohol         -0.328222  1.000000  0.094397  0.211545   -0.310235   \n",
              "Malic            0.437776  0.094397  1.000000  0.164045    0.288500   \n",
              "Ash             -0.049643  0.211545  0.164045  1.000000    0.443367   \n",
              "Alcalinity       0.517859 -0.310235  0.288500  0.443367    1.000000   \n",
              "Magnesium       -0.209179  0.270798 -0.054575  0.286587   -0.083333   \n",
              "Phenols         -0.719163  0.289101 -0.335167  0.128980   -0.321113   \n",
              "Flavanoids      -0.847498  0.236815 -0.411007  0.115077   -0.351370   \n",
              "Nonflavanoids    0.489109 -0.155929  0.292977  0.186230    0.361922   \n",
              "Proanthocyanins -0.499130  0.136698 -0.220746  0.009652   -0.197327   \n",
              "Color            0.265668  0.546364  0.248985  0.258887    0.018732   \n",
              "Hue             -0.617369 -0.071747 -0.561296 -0.074667   -0.273955   \n",
              "Dilution        -0.788230  0.072343 -0.368710  0.003911   -0.276769   \n",
              "Proline         -0.633717  0.643720 -0.192011  0.223626   -0.440597   \n",
              "\n",
              "                 Magnesium   Phenols  Flavanoids  Nonflavanoids  \\\n",
              "Type             -0.209179 -0.719163   -0.847498       0.489109   \n",
              "Alcohol           0.270798  0.289101    0.236815      -0.155929   \n",
              "Malic            -0.054575 -0.335167   -0.411007       0.292977   \n",
              "Ash               0.286587  0.128980    0.115077       0.186230   \n",
              "Alcalinity       -0.083333 -0.321113   -0.351370       0.361922   \n",
              "Magnesium         1.000000  0.214401    0.195784      -0.256294   \n",
              "Phenols           0.214401  1.000000    0.864564      -0.449935   \n",
              "Flavanoids        0.195784  0.864564    1.000000      -0.537900   \n",
              "Nonflavanoids    -0.256294 -0.449935   -0.537900       1.000000   \n",
              "Proanthocyanins   0.236441  0.612413    0.652692      -0.365845   \n",
              "Color             0.199950 -0.055136   -0.172379       0.139057   \n",
              "Hue               0.055398  0.433681    0.543479      -0.262640   \n",
              "Dilution          0.066004  0.699949    0.787194      -0.503270   \n",
              "Proline           0.393351  0.498115    0.494193      -0.311385   \n",
              "\n",
              "                 Proanthocyanins     Color       Hue  Dilution   Proline  \n",
              "Type                   -0.499130  0.265668 -0.617369 -0.788230 -0.633717  \n",
              "Alcohol                 0.136698  0.546364 -0.071747  0.072343  0.643720  \n",
              "Malic                  -0.220746  0.248985 -0.561296 -0.368710 -0.192011  \n",
              "Ash                     0.009652  0.258887 -0.074667  0.003911  0.223626  \n",
              "Alcalinity             -0.197327  0.018732 -0.273955 -0.276769 -0.440597  \n",
              "Magnesium               0.236441  0.199950  0.055398  0.066004  0.393351  \n",
              "Phenols                 0.612413 -0.055136  0.433681  0.699949  0.498115  \n",
              "Flavanoids              0.652692 -0.172379  0.543479  0.787194  0.494193  \n",
              "Nonflavanoids          -0.365845  0.139057 -0.262640 -0.503270 -0.311385  \n",
              "Proanthocyanins         1.000000 -0.025250  0.295544  0.519067  0.330417  \n",
              "Color                  -0.025250  1.000000 -0.521813 -0.428815  0.316100  \n",
              "Hue                     0.295544 -0.521813  1.000000  0.565468  0.236183  \n",
              "Dilution                0.519067 -0.428815  0.565468  1.000000  0.312761  \n",
              "Proline                 0.330417  0.316100  0.236183  0.312761  1.000000  "
            ],
            "text/html": [
              "\n",
              "  <div id=\"df-b49c3e0f-50fc-4651-acd4-70bae6244dbd\">\n",
              "    <div class=\"colab-df-container\">\n",
              "      <div>\n",
              "<style scoped>\n",
              "    .dataframe tbody tr th:only-of-type {\n",
              "        vertical-align: middle;\n",
              "    }\n",
              "\n",
              "    .dataframe tbody tr th {\n",
              "        vertical-align: top;\n",
              "    }\n",
              "\n",
              "    .dataframe thead th {\n",
              "        text-align: right;\n",
              "    }\n",
              "</style>\n",
              "<table border=\"1\" class=\"dataframe\">\n",
              "  <thead>\n",
              "    <tr style=\"text-align: right;\">\n",
              "      <th></th>\n",
              "      <th>Type</th>\n",
              "      <th>Alcohol</th>\n",
              "      <th>Malic</th>\n",
              "      <th>Ash</th>\n",
              "      <th>Alcalinity</th>\n",
              "      <th>Magnesium</th>\n",
              "      <th>Phenols</th>\n",
              "      <th>Flavanoids</th>\n",
              "      <th>Nonflavanoids</th>\n",
              "      <th>Proanthocyanins</th>\n",
              "      <th>Color</th>\n",
              "      <th>Hue</th>\n",
              "      <th>Dilution</th>\n",
              "      <th>Proline</th>\n",
              "    </tr>\n",
              "  </thead>\n",
              "  <tbody>\n",
              "    <tr>\n",
              "      <th>Type</th>\n",
              "      <td>1.000000</td>\n",
              "      <td>-0.328222</td>\n",
              "      <td>0.437776</td>\n",
              "      <td>-0.049643</td>\n",
              "      <td>0.517859</td>\n",
              "      <td>-0.209179</td>\n",
              "      <td>-0.719163</td>\n",
              "      <td>-0.847498</td>\n",
              "      <td>0.489109</td>\n",
              "      <td>-0.499130</td>\n",
              "      <td>0.265668</td>\n",
              "      <td>-0.617369</td>\n",
              "      <td>-0.788230</td>\n",
              "      <td>-0.633717</td>\n",
              "    </tr>\n",
              "    <tr>\n",
              "      <th>Alcohol</th>\n",
              "      <td>-0.328222</td>\n",
              "      <td>1.000000</td>\n",
              "      <td>0.094397</td>\n",
              "      <td>0.211545</td>\n",
              "      <td>-0.310235</td>\n",
              "      <td>0.270798</td>\n",
              "      <td>0.289101</td>\n",
              "      <td>0.236815</td>\n",
              "      <td>-0.155929</td>\n",
              "      <td>0.136698</td>\n",
              "      <td>0.546364</td>\n",
              "      <td>-0.071747</td>\n",
              "      <td>0.072343</td>\n",
              "      <td>0.643720</td>\n",
              "    </tr>\n",
              "    <tr>\n",
              "      <th>Malic</th>\n",
              "      <td>0.437776</td>\n",
              "      <td>0.094397</td>\n",
              "      <td>1.000000</td>\n",
              "      <td>0.164045</td>\n",
              "      <td>0.288500</td>\n",
              "      <td>-0.054575</td>\n",
              "      <td>-0.335167</td>\n",
              "      <td>-0.411007</td>\n",
              "      <td>0.292977</td>\n",
              "      <td>-0.220746</td>\n",
              "      <td>0.248985</td>\n",
              "      <td>-0.561296</td>\n",
              "      <td>-0.368710</td>\n",
              "      <td>-0.192011</td>\n",
              "    </tr>\n",
              "    <tr>\n",
              "      <th>Ash</th>\n",
              "      <td>-0.049643</td>\n",
              "      <td>0.211545</td>\n",
              "      <td>0.164045</td>\n",
              "      <td>1.000000</td>\n",
              "      <td>0.443367</td>\n",
              "      <td>0.286587</td>\n",
              "      <td>0.128980</td>\n",
              "      <td>0.115077</td>\n",
              "      <td>0.186230</td>\n",
              "      <td>0.009652</td>\n",
              "      <td>0.258887</td>\n",
              "      <td>-0.074667</td>\n",
              "      <td>0.003911</td>\n",
              "      <td>0.223626</td>\n",
              "    </tr>\n",
              "    <tr>\n",
              "      <th>Alcalinity</th>\n",
              "      <td>0.517859</td>\n",
              "      <td>-0.310235</td>\n",
              "      <td>0.288500</td>\n",
              "      <td>0.443367</td>\n",
              "      <td>1.000000</td>\n",
              "      <td>-0.083333</td>\n",
              "      <td>-0.321113</td>\n",
              "      <td>-0.351370</td>\n",
              "      <td>0.361922</td>\n",
              "      <td>-0.197327</td>\n",
              "      <td>0.018732</td>\n",
              "      <td>-0.273955</td>\n",
              "      <td>-0.276769</td>\n",
              "      <td>-0.440597</td>\n",
              "    </tr>\n",
              "    <tr>\n",
              "      <th>Magnesium</th>\n",
              "      <td>-0.209179</td>\n",
              "      <td>0.270798</td>\n",
              "      <td>-0.054575</td>\n",
              "      <td>0.286587</td>\n",
              "      <td>-0.083333</td>\n",
              "      <td>1.000000</td>\n",
              "      <td>0.214401</td>\n",
              "      <td>0.195784</td>\n",
              "      <td>-0.256294</td>\n",
              "      <td>0.236441</td>\n",
              "      <td>0.199950</td>\n",
              "      <td>0.055398</td>\n",
              "      <td>0.066004</td>\n",
              "      <td>0.393351</td>\n",
              "    </tr>\n",
              "    <tr>\n",
              "      <th>Phenols</th>\n",
              "      <td>-0.719163</td>\n",
              "      <td>0.289101</td>\n",
              "      <td>-0.335167</td>\n",
              "      <td>0.128980</td>\n",
              "      <td>-0.321113</td>\n",
              "      <td>0.214401</td>\n",
              "      <td>1.000000</td>\n",
              "      <td>0.864564</td>\n",
              "      <td>-0.449935</td>\n",
              "      <td>0.612413</td>\n",
              "      <td>-0.055136</td>\n",
              "      <td>0.433681</td>\n",
              "      <td>0.699949</td>\n",
              "      <td>0.498115</td>\n",
              "    </tr>\n",
              "    <tr>\n",
              "      <th>Flavanoids</th>\n",
              "      <td>-0.847498</td>\n",
              "      <td>0.236815</td>\n",
              "      <td>-0.411007</td>\n",
              "      <td>0.115077</td>\n",
              "      <td>-0.351370</td>\n",
              "      <td>0.195784</td>\n",
              "      <td>0.864564</td>\n",
              "      <td>1.000000</td>\n",
              "      <td>-0.537900</td>\n",
              "      <td>0.652692</td>\n",
              "      <td>-0.172379</td>\n",
              "      <td>0.543479</td>\n",
              "      <td>0.787194</td>\n",
              "      <td>0.494193</td>\n",
              "    </tr>\n",
              "    <tr>\n",
              "      <th>Nonflavanoids</th>\n",
              "      <td>0.489109</td>\n",
              "      <td>-0.155929</td>\n",
              "      <td>0.292977</td>\n",
              "      <td>0.186230</td>\n",
              "      <td>0.361922</td>\n",
              "      <td>-0.256294</td>\n",
              "      <td>-0.449935</td>\n",
              "      <td>-0.537900</td>\n",
              "      <td>1.000000</td>\n",
              "      <td>-0.365845</td>\n",
              "      <td>0.139057</td>\n",
              "      <td>-0.262640</td>\n",
              "      <td>-0.503270</td>\n",
              "      <td>-0.311385</td>\n",
              "    </tr>\n",
              "    <tr>\n",
              "      <th>Proanthocyanins</th>\n",
              "      <td>-0.499130</td>\n",
              "      <td>0.136698</td>\n",
              "      <td>-0.220746</td>\n",
              "      <td>0.009652</td>\n",
              "      <td>-0.197327</td>\n",
              "      <td>0.236441</td>\n",
              "      <td>0.612413</td>\n",
              "      <td>0.652692</td>\n",
              "      <td>-0.365845</td>\n",
              "      <td>1.000000</td>\n",
              "      <td>-0.025250</td>\n",
              "      <td>0.295544</td>\n",
              "      <td>0.519067</td>\n",
              "      <td>0.330417</td>\n",
              "    </tr>\n",
              "    <tr>\n",
              "      <th>Color</th>\n",
              "      <td>0.265668</td>\n",
              "      <td>0.546364</td>\n",
              "      <td>0.248985</td>\n",
              "      <td>0.258887</td>\n",
              "      <td>0.018732</td>\n",
              "      <td>0.199950</td>\n",
              "      <td>-0.055136</td>\n",
              "      <td>-0.172379</td>\n",
              "      <td>0.139057</td>\n",
              "      <td>-0.025250</td>\n",
              "      <td>1.000000</td>\n",
              "      <td>-0.521813</td>\n",
              "      <td>-0.428815</td>\n",
              "      <td>0.316100</td>\n",
              "    </tr>\n",
              "    <tr>\n",
              "      <th>Hue</th>\n",
              "      <td>-0.617369</td>\n",
              "      <td>-0.071747</td>\n",
              "      <td>-0.561296</td>\n",
              "      <td>-0.074667</td>\n",
              "      <td>-0.273955</td>\n",
              "      <td>0.055398</td>\n",
              "      <td>0.433681</td>\n",
              "      <td>0.543479</td>\n",
              "      <td>-0.262640</td>\n",
              "      <td>0.295544</td>\n",
              "      <td>-0.521813</td>\n",
              "      <td>1.000000</td>\n",
              "      <td>0.565468</td>\n",
              "      <td>0.236183</td>\n",
              "    </tr>\n",
              "    <tr>\n",
              "      <th>Dilution</th>\n",
              "      <td>-0.788230</td>\n",
              "      <td>0.072343</td>\n",
              "      <td>-0.368710</td>\n",
              "      <td>0.003911</td>\n",
              "      <td>-0.276769</td>\n",
              "      <td>0.066004</td>\n",
              "      <td>0.699949</td>\n",
              "      <td>0.787194</td>\n",
              "      <td>-0.503270</td>\n",
              "      <td>0.519067</td>\n",
              "      <td>-0.428815</td>\n",
              "      <td>0.565468</td>\n",
              "      <td>1.000000</td>\n",
              "      <td>0.312761</td>\n",
              "    </tr>\n",
              "    <tr>\n",
              "      <th>Proline</th>\n",
              "      <td>-0.633717</td>\n",
              "      <td>0.643720</td>\n",
              "      <td>-0.192011</td>\n",
              "      <td>0.223626</td>\n",
              "      <td>-0.440597</td>\n",
              "      <td>0.393351</td>\n",
              "      <td>0.498115</td>\n",
              "      <td>0.494193</td>\n",
              "      <td>-0.311385</td>\n",
              "      <td>0.330417</td>\n",
              "      <td>0.316100</td>\n",
              "      <td>0.236183</td>\n",
              "      <td>0.312761</td>\n",
              "      <td>1.000000</td>\n",
              "    </tr>\n",
              "  </tbody>\n",
              "</table>\n",
              "</div>\n",
              "      <button class=\"colab-df-convert\" onclick=\"convertToInteractive('df-b49c3e0f-50fc-4651-acd4-70bae6244dbd')\"\n",
              "              title=\"Convert this dataframe to an interactive table.\"\n",
              "              style=\"display:none;\">\n",
              "        \n",
              "  <svg xmlns=\"http://www.w3.org/2000/svg\" height=\"24px\"viewBox=\"0 0 24 24\"\n",
              "       width=\"24px\">\n",
              "    <path d=\"M0 0h24v24H0V0z\" fill=\"none\"/>\n",
              "    <path d=\"M18.56 5.44l.94 2.06.94-2.06 2.06-.94-2.06-.94-.94-2.06-.94 2.06-2.06.94zm-11 1L8.5 8.5l.94-2.06 2.06-.94-2.06-.94L8.5 2.5l-.94 2.06-2.06.94zm10 10l.94 2.06.94-2.06 2.06-.94-2.06-.94-.94-2.06-.94 2.06-2.06.94z\"/><path d=\"M17.41 7.96l-1.37-1.37c-.4-.4-.92-.59-1.43-.59-.52 0-1.04.2-1.43.59L10.3 9.45l-7.72 7.72c-.78.78-.78 2.05 0 2.83L4 21.41c.39.39.9.59 1.41.59.51 0 1.02-.2 1.41-.59l7.78-7.78 2.81-2.81c.8-.78.8-2.07 0-2.86zM5.41 20L4 18.59l7.72-7.72 1.47 1.35L5.41 20z\"/>\n",
              "  </svg>\n",
              "      </button>\n",
              "      \n",
              "  <style>\n",
              "    .colab-df-container {\n",
              "      display:flex;\n",
              "      flex-wrap:wrap;\n",
              "      gap: 12px;\n",
              "    }\n",
              "\n",
              "    .colab-df-convert {\n",
              "      background-color: #E8F0FE;\n",
              "      border: none;\n",
              "      border-radius: 50%;\n",
              "      cursor: pointer;\n",
              "      display: none;\n",
              "      fill: #1967D2;\n",
              "      height: 32px;\n",
              "      padding: 0 0 0 0;\n",
              "      width: 32px;\n",
              "    }\n",
              "\n",
              "    .colab-df-convert:hover {\n",
              "      background-color: #E2EBFA;\n",
              "      box-shadow: 0px 1px 2px rgba(60, 64, 67, 0.3), 0px 1px 3px 1px rgba(60, 64, 67, 0.15);\n",
              "      fill: #174EA6;\n",
              "    }\n",
              "\n",
              "    [theme=dark] .colab-df-convert {\n",
              "      background-color: #3B4455;\n",
              "      fill: #D2E3FC;\n",
              "    }\n",
              "\n",
              "    [theme=dark] .colab-df-convert:hover {\n",
              "      background-color: #434B5C;\n",
              "      box-shadow: 0px 1px 3px 1px rgba(0, 0, 0, 0.15);\n",
              "      filter: drop-shadow(0px 1px 2px rgba(0, 0, 0, 0.3));\n",
              "      fill: #FFFFFF;\n",
              "    }\n",
              "  </style>\n",
              "\n",
              "      <script>\n",
              "        const buttonEl =\n",
              "          document.querySelector('#df-b49c3e0f-50fc-4651-acd4-70bae6244dbd button.colab-df-convert');\n",
              "        buttonEl.style.display =\n",
              "          google.colab.kernel.accessAllowed ? 'block' : 'none';\n",
              "\n",
              "        async function convertToInteractive(key) {\n",
              "          const element = document.querySelector('#df-b49c3e0f-50fc-4651-acd4-70bae6244dbd');\n",
              "          const dataTable =\n",
              "            await google.colab.kernel.invokeFunction('convertToInteractive',\n",
              "                                                     [key], {});\n",
              "          if (!dataTable) return;\n",
              "\n",
              "          const docLinkHtml = 'Like what you see? Visit the ' +\n",
              "            '<a target=\"_blank\" href=https://colab.research.google.com/notebooks/data_table.ipynb>data table notebook</a>'\n",
              "            + ' to learn more about interactive tables.';\n",
              "          element.innerHTML = '';\n",
              "          dataTable['output_type'] = 'display_data';\n",
              "          await google.colab.output.renderOutput(dataTable, element);\n",
              "          const docLink = document.createElement('div');\n",
              "          docLink.innerHTML = docLinkHtml;\n",
              "          element.appendChild(docLink);\n",
              "        }\n",
              "      </script>\n",
              "    </div>\n",
              "  </div>\n",
              "  "
            ]
          },
          "metadata": {},
          "execution_count": 7
        }
      ],
      "source": [
        "df.corr()"
      ]
    },
    {
      "cell_type": "markdown",
      "id": "aaa1e2bd",
      "metadata": {
        "id": "aaa1e2bd"
      },
      "source": [
        "## Analysis\n",
        "#### Type has a postive correlation with Malic, Alcalinity, Color and a  Negative Correlation with Alcohol, Magnesium, Phenols, Flavanoids, Proanthocyanins, Hue, Dilution, Proline and no relation with Ash\n",
        "#### Alcohol has a postive correlation with Proline,Color, Flavanoids, Nonflavanoids, Phenols, Magnesium & Ash and a  Negative Correlation with Type, Alcalinity, Phenols, Flavanoids, Proanthocyanins and no relation with Dilution, Hue, Malic\n",
        "#### Malic has a postive correlation with Type, Ash, Alcalinity, Nonflavanoids, Color, Proline and a  Negative Correlation with Phenols, Flavanoids, Proanthocyanins, Hue, Dilution, Proline and no relation with Alcohol, Magnesium\n",
        "#### Ash has a postive correlation with Alcohol, Malic, Alcalinity, Magnesium, Nonflavanoids, Phenols, Flavanoids, Color, Proline, No Negative Correlation and no relation with Proanthocyanins, Hue, Type\n",
        "#### Alcalinity has a postive correlation with Type, Malic, Ash, Nonflavanoids and a  Negative Correlation with  Alcohol, Phenols, Flavanoids, Proanthocyanins,Hue, Dilution & Proline and no relation with Magnesium.\n",
        "#### Magnesium has a postive correlation with Alcohol, Ash, Phenols, Flavanoids, Proanthocyanins, Color & Proline and a  Negative Correlation with Type, Nonflavanoids and no relation with Malic, Alcalinity, Hue, Dilution.\n",
        "#### Phenols has a postive correlation with Alcohol, Ash, Magnesium, Flavanoids, Proanthocyanins, Hue, Dilution, Proline and a Negative correlation with Type, Malic, Alcalinity, Nonflavanoids, and no relationship with Color\n",
        "#### Flavanoids has a positive correlation with Alcohol, Ash, Magnesium, Phenols, Proanthocyanins, Hue, Dilution and Proline and a Negative Correlation with type, Malic, Nonflavanoids & color.\n",
        "#### Nonflavanoids has a postive correlation with Type, Malic, Ash, Alcalinity, Color and has a negative correlation with Alcohol, Magnesium, Phenols, Flavanoids, Proanthocyanins, Hue, Dilution, Proline"
      ]
    },
    {
      "cell_type": "markdown",
      "id": "ccf2b720",
      "metadata": {
        "id": "ccf2b720"
      },
      "source": [
        "#### Proanthocyanins has a positive correlation with phenols, Flavanoids, Hue, Dilution, Proline and Negative correlation with Type, Malic, Alcalinity, Nonflavanoids and No Correlation with Ash, Color\n",
        "####  Color has positive correlation with Type, Alcohol, Malic, Ash, Magnesium, Nonflavanoids & Proline and Negative Correlation with Magnesium,  Hue, Dilution and No Correlation with Alcalinity, Phenols & Proanthocyanins"
      ]
    },
    {
      "cell_type": "code",
      "execution_count": 8,
      "id": "bfeb7a61",
      "metadata": {
        "colab": {
          "base_uri": "https://localhost:8080/"
        },
        "id": "bfeb7a61",
        "outputId": "0abf8ce6-82ea-44ac-cd67-73624a315a1a"
      },
      "outputs": [
        {
          "output_type": "execute_result",
          "data": {
            "text/plain": [
              "Type               0.107431\n",
              "Alcohol           -0.051482\n",
              "Malic              1.039651\n",
              "Ash               -0.176699\n",
              "Alcalinity         0.213047\n",
              "Magnesium          1.098191\n",
              "Phenols            0.086639\n",
              "Flavanoids         0.025344\n",
              "Nonflavanoids      0.450151\n",
              "Proanthocyanins    0.517137\n",
              "Color              0.868585\n",
              "Hue                0.021091\n",
              "Dilution          -0.307285\n",
              "Proline            0.767822\n",
              "dtype: float64"
            ]
          },
          "metadata": {},
          "execution_count": 8
        }
      ],
      "source": [
        "df.skew()"
      ]
    },
    {
      "cell_type": "code",
      "execution_count": 9,
      "id": "cec6d4d4",
      "metadata": {
        "colab": {
          "base_uri": "https://localhost:8080/"
        },
        "id": "cec6d4d4",
        "outputId": "43b33f70-3667-4f1b-a1a3-ce6f514c2df7"
      },
      "outputs": [
        {
          "output_type": "execute_result",
          "data": {
            "text/plain": [
              "Type              -1.322787\n",
              "Alcohol           -0.852500\n",
              "Malic              0.299207\n",
              "Ash                1.143978\n",
              "Alcalinity         0.487942\n",
              "Magnesium          2.104991\n",
              "Phenols           -0.835627\n",
              "Flavanoids        -0.880382\n",
              "Nonflavanoids     -0.637191\n",
              "Proanthocyanins    0.554649\n",
              "Color              0.381522\n",
              "Hue               -0.344096\n",
              "Dilution          -1.086435\n",
              "Proline           -0.248403\n",
              "dtype: float64"
            ]
          },
          "metadata": {},
          "execution_count": 9
        }
      ],
      "source": [
        "df.kurtosis()"
      ]
    },
    {
      "cell_type": "markdown",
      "id": "ba7cecaf",
      "metadata": {
        "id": "ba7cecaf"
      },
      "source": [
        "#### Type has a Positive Skewness and Negative Kurtosis\n",
        "#### Alcohol has Negative Skewness and Kurtosis\n",
        "#### Malic has Positive Skewness and Kurtosis\n",
        "#### Ash has Negative Skewness and Positive Kurtosis\n",
        "#### Alcalinity has Positive skewness and Kurtosis\n",
        "#### Magnesium has Positive Skewness and Kurtosis\n",
        "#### Phenols has Positive Skewness and Kurtosis\n",
        "#### Flavanoids has no skewness and Negative Kurtosis\n",
        "#### Nonflavanoids has Positive skewness and Negative Kurtosis\n",
        "#### Proanthocyanins has Positive skewness and Kurtosis\n",
        "#### Nonflavanoids has Positive skewness and Negative Kurtosis\n",
        "#### Proanthocyanins has Positive Skewness and Kurtosis\n",
        "#### Color has Positive skewness and Kurtosis\n",
        "#### Hue has no skewness and Negative Kurtosis\n",
        "#### Dilution has Negative skewness and Kurtosis\n",
        "#### Proline  has positive skewness and Negative Kurtosis"
      ]
    },
    {
      "cell_type": "code",
      "execution_count": 10,
      "id": "f551698f",
      "metadata": {
        "colab": {
          "base_uri": "https://localhost:8080/",
          "height": 298
        },
        "id": "f551698f",
        "outputId": "ca797340-347f-4468-c97f-970a2ac2ea30"
      },
      "outputs": [
        {
          "output_type": "display_data",
          "data": {
            "text/plain": [
              "<Figure size 432x288 with 16 Axes>"
            ],
            "image/png": "[encoded data removed]"
          },
          "metadata": {
            "needs_background": "light"
          }
        },
        {
          "output_type": "display_data",
          "data": {
            "text/plain": [
              "<Figure size 432x288 with 0 Axes>"
            ]
          },
          "metadata": {}
        }
      ],
      "source": [
        "fig, a = plt.subplots(4,4)\n",
        "a[0][0].hist('Type', data = df)\n",
        "a[0][0].set_title('Type')\n",
        "a[0][1].hist('Alcohol', data= df)\n",
        "a[0][1].set_title('Alcohol')\n",
        "a[0][2].hist('Malic', data= df)\n",
        "a[0][2].set_title('Malic')\n",
        "a[0][3].hist('Ash', data= df)\n",
        "a[0][3].set_title('Ash')\n",
        "a[1][0].hist('Alcalinity', data= df)\n",
        "a[1][0].set_title('Alcalinity')\n",
        "a[1][1].hist('Magnesium', data= df)\n",
        "a[1][1].set_title('Magnesium')\n",
        "a[1][2].hist('Phenols', data = df)\n",
        "a[1][2].set_title('Phenols')\n",
        "a[1][3].hist('Flavanoids', data = df)\n",
        "a[1][3].set_title('Flavanoids')\n",
        "a[2][0].hist('Nonflavanoids', data = df) \n",
        "a[2][0].set_title('Nonflavanoids')\n",
        "a[2][1].hist('Proanthocyanins', data = df)\n",
        "a[2][1].set_title('Proanthocyanins')\n",
        "a[2][2].hist('Color', data = df)\n",
        "a[2][2].set_title('Color')\n",
        "a[2][3].hist('Hue', data = df)\n",
        "a[2][3].set_title('Hue')\n",
        "a[3][0].hist('Dilution', data = df)\n",
        "a[3][0].set_title('Dilution')\n",
        "a[3][1].hist('Proline', data = df)\n",
        "a[3][1].set_title('Proline')\n",
        "plt.show()\n",
        "plt.tight_layout()"
      ]
    },
    {
      "cell_type": "code",
      "execution_count": 11,
      "id": "d6f7f305",
      "metadata": {
        "colab": {
          "base_uri": "https://localhost:8080/"
        },
        "id": "d6f7f305",
        "outputId": "7c000b07-068d-4979-bb82-0b043a05b7a7"
      },
      "outputs": [
        {
          "output_type": "execute_result",
          "data": {
            "text/plain": [
              "Type               0\n",
              "Alcohol            0\n",
              "Malic              0\n",
              "Ash                0\n",
              "Alcalinity         0\n",
              "Magnesium          0\n",
              "Phenols            0\n",
              "Flavanoids         0\n",
              "Nonflavanoids      0\n",
              "Proanthocyanins    0\n",
              "Color              0\n",
              "Hue                0\n",
              "Dilution           0\n",
              "Proline            0\n",
              "dtype: int64"
            ]
          },
          "metadata": {},
          "execution_count": 11
        }
      ],
      "source": [
        "# Checking for Missing Values\n",
        "df.isnull().sum()"
      ]
    },
    {
      "cell_type": "code",
      "execution_count": 12,
      "id": "caae0c13",
      "metadata": {
        "colab": {
          "base_uri": "https://localhost:8080/",
          "height": 298
        },
        "id": "caae0c13",
        "outputId": "c95d4d56-036e-4bb6-eb29-a84ef1d3e984"
      },
      "outputs": [
        {
          "output_type": "display_data",
          "data": {
            "text/plain": [
              "<Figure size 432x288 with 16 Axes>"
            ],
            "image/png": "[encoded data removed]"
          },
          "metadata": {
            "needs_background": "light"
          }
        },
        {
          "output_type": "display_data",
          "data": {
            "text/plain": [
              "<Figure size 432x288 with 0 Axes>"
            ]
          },
          "metadata": {}
        }
      ],
      "source": [
        "fig, a = plt.subplots(4,4)\n",
        "a[0][0].boxplot('Type', data = df)\n",
        "a[0][0].set_title('Type')\n",
        "a[0][1].boxplot('Alcohol', data= df)\n",
        "a[0][1].set_title('Alcohol')\n",
        "a[0][2].boxplot('Malic', data= df)\n",
        "a[0][2].set_title('Malic')\n",
        "a[0][3].boxplot('Ash', data= df)\n",
        "a[0][3].set_title('Ash')\n",
        "a[1][0].boxplot('Alcalinity', data= df)\n",
        "a[1][0].set_title('Alcalinity')\n",
        "a[1][1].boxplot('Magnesium', data= df)\n",
        "a[1][1].set_title('Magnesium')\n",
        "a[1][2].boxplot('Phenols', data = df)\n",
        "a[1][2].set_title('Phenols')\n",
        "a[1][3].boxplot('Flavanoids', data = df)\n",
        "a[1][3].set_title('Flavanoids')\n",
        "a[2][0].boxplot('Nonflavanoids', data = df) \n",
        "a[2][0].set_title('Nonflavanoids')\n",
        "a[2][1].boxplot('Proanthocyanins', data = df)\n",
        "a[2][1].set_title('Proanthocyanins')\n",
        "a[2][2].boxplot('Color', data = df)\n",
        "a[2][2].set_title('Color')\n",
        "a[2][3].boxplot('Hue', data = df)\n",
        "a[2][3].set_title('Hue')\n",
        "a[3][0].boxplot('Dilution', data = df)\n",
        "a[3][0].set_title('Dilution')\n",
        "a[3][1].boxplot('Proline', data = df)\n",
        "a[3][1].set_title('Proline')\n",
        "plt.show()\n",
        "plt.tight_layout()"
      ]
    },
    {
      "cell_type": "markdown",
      "id": "2abd7b0f",
      "metadata": {
        "id": "2abd7b0f"
      },
      "source": [
        "#### Malic has Outliers on the upper Quartile\n",
        "#### Ash has outliers in the upper Quartile\n",
        "#### Alcalinity has outliers in the upper Quartile and Lower Quartile\n",
        "#### Magnesium has outliers in the upper Quartile\n",
        "#### Proanthocyanins has outliers in the upper Quartile\n"
      ]
    },
    {
      "cell_type": "code",
      "execution_count": 13,
      "id": "bbafae05",
      "metadata": {
        "id": "bbafae05"
      },
      "outputs": [],
      "source": [
        "# Normalizing the data\n",
        "from sklearn.preprocessing import Normalizer"
      ]
    },
    {
      "cell_type": "code",
      "execution_count": 14,
      "id": "7350789b",
      "metadata": {
        "id": "7350789b"
      },
      "outputs": [],
      "source": [
        "norm = Normalizer()"
      ]
    },
    {
      "cell_type": "code",
      "execution_count": 15,
      "id": "d486423d",
      "metadata": {
        "colab": {
          "base_uri": "https://localhost:8080/"
        },
        "id": "d486423d",
        "outputId": "1751281f-e9ab-4652-8199-8f31235e23bc"
      },
      "outputs": [
        {
          "output_type": "execute_result",
          "data": {
            "text/plain": [
              "Index(['Type', 'Alcohol', 'Malic', 'Ash', 'Alcalinity', 'Magnesium', 'Phenols',\n",
              "       'Flavanoids', 'Nonflavanoids', 'Proanthocyanins', 'Color', 'Hue',\n",
              "       'Dilution', 'Proline'],\n",
              "      dtype='object')"
            ]
          },
          "metadata": {},
          "execution_count": 15
        }
      ],
      "source": [
        "df.columns"
      ]
    },
    {
      "cell_type": "code",
      "execution_count": 16,
      "id": "afc2c80d",
      "metadata": {
        "id": "afc2c80d"
      },
      "outputs": [],
      "source": [
        "df_norm = norm.fit_transform(df[['Type','Alcohol', 'Malic','Ash','Alcalinity','Magnesium','Phenols','Flavanoids','Nonflavanoids','Proanthocyanins','Color','Hue','Dilution','Proline']])"
      ]
    },
    {
      "cell_type": "code",
      "execution_count": 17,
      "id": "c8186fd9",
      "metadata": {
        "colab": {
          "base_uri": "https://localhost:8080/"
        },
        "id": "c8186fd9",
        "outputId": "769bcdc6-ace5-4a66-d078-16bbfdf5e870"
      },
      "outputs": [
        {
          "output_type": "execute_result",
          "data": {
            "text/plain": [
              "array([[9.32148040e-04, 1.32644666e-02, 1.59397315e-03, ...,\n",
              "        9.69433961e-04, 3.65402032e-03, 9.92737662e-01],\n",
              "       [9.47939004e-04, 1.25127948e-02, 1.68733143e-03, ...,\n",
              "        9.95335954e-04, 3.22299261e-03, 9.95335954e-01],\n",
              "       [8.40654226e-04, 1.10630096e-02, 1.98394397e-03, ...,\n",
              "        8.65873852e-04, 2.66487390e-03, 9.96175257e-01],\n",
              "       ...,\n",
              "       [3.55447904e-03, 1.57226456e-02, 5.07105676e-03, ...,\n",
              "        6.99047544e-04, 1.84832910e-03, 9.89329998e-01],\n",
              "       [3.53384139e-03, 1.55135637e-02, 3.05088307e-03, ...,\n",
              "        7.06768278e-04, 1.90827435e-03, 9.89475589e-01],\n",
              "       [5.27254850e-03, 2.48337034e-02, 7.20581628e-03, ...,\n",
              "        1.07208486e-03, 2.81202587e-03, 9.84209053e-01]])"
            ]
          },
          "metadata": {},
          "execution_count": 17
        }
      ],
      "source": [
        "df_norm"
      ]
    },
    {
      "cell_type": "code",
      "execution_count": 18,
      "id": "71c9c816",
      "metadata": {
        "id": "71c9c816"
      },
      "outputs": [],
      "source": [
        "import scipy.cluster.hierarchy as sch\n",
        "from sklearn.cluster import AgglomerativeClustering\n",
        "from sklearn.preprocessing import StandardScaler\n",
        "from sklearn.preprocessing import MinMaxScaler\n",
        "from sklearn.cluster import KMeans\n",
        "from sklearn.cluster import DBSCAN\n",
        "from sklearn.neighbors import NearestNeighbors\n",
        "from sklearn.metrics import silhouette_score\n",
        "from collections import Counter"
      ]
    },
    {
      "cell_type": "code",
      "execution_count": 21,
      "id": "8d951a71",
      "metadata": {
        "colab": {
          "base_uri": "https://localhost:8080/",
          "height": 265
        },
        "id": "8d951a71",
        "outputId": "8bc725f4-b5c8-4100-f609-4aadda0e844c"
      },
      "outputs": [
        {
          "output_type": "display_data",
          "data": {
            "text/plain": [
              "<Figure size 432x288 with 1 Axes>"
            ],
            "image/png": "[encoded data removed]"
          },
          "metadata": {
            "needs_background": "light"
          }
        }
      ],
      "source": [
        "# create dendrogram using method as ward\n",
        "dendrogram = sch.dendrogram(sch.linkage(df_norm, method='ward'))"
      ]
    },
    {
      "cell_type": "code",
      "execution_count": 22,
      "id": "840ea0ef",
      "metadata": {
        "scrolled": true,
        "colab": {
          "base_uri": "https://localhost:8080/"
        },
        "id": "840ea0ef",
        "outputId": "4ef6c73b-2db2-4d57-ff8e-325cf84a2cc9"
      },
      "outputs": [
        {
          "output_type": "stream",
          "name": "stdout",
          "text": [
            "['C1', 'C1', 'C1', 'C1', 'C1', 'C1', 'C1', 'C1', 'C1', 'C1', 'C1', 'C1', 'C1', 'C1', 'C1', 'C1', 'C1', 'C1', 'C1', 'C1', 'C1', 'C1', 'C1', 'C1', 'C1', 'C1', 'C1', 'C1', 'C1', 'C1', 'C1', 'C1', 'C1', 'C1', 'C1', 'C2', 'C2', 'C2', 'C2', 'C2', 'C2', 'C2', 'C2', 'C2', 'C2', 'C2', 'C2', 'C2', 'C2', 'C2', 'C2', 'C2', 'C2', 'C2', 'C2', 'C2', 'C2', 'C2', 'C2', 'C2', 'C2', 'C2', 'C2', 'C2', 'C2', 'C2', 'C2', 'C2', 'C2', 'C2', 'C2', 'C2', 'C2', 'C2', 'C2', 'C2', 'C2', 'C2', 'C2', 'C2', 'C2', 'C2', 'C2', 'C2', 'C2', 'C2', 'C2', 'C2', 'C2', 'C2', 'C2', 'C2', 'C2', 'C2', 'C2', 'C2', 'C2', 'C2', 'C2', 'C2', 'C2', 'C2', 'C2', 'C2', 'C2', 'C2', 'C2', 'C2', 'C2', 'C2', 'C2', 'C2', 'C2', 'C2', 'C2', 'C2', 'C2', 'C2', 'C2', 'C2', 'C2', 'C2', 'C2', 'C2', 'C2', 'C2', 'C2', 'C2', 'C2', 'C2', 'C2', 'C2', 'C2', 'C2', 'C2', 'C2', 'C2', 'C2', 'C2', 'C2', 'C2', 'C2', 'C2', 'C2', 'C2', 'C2', 'C2', 'C2', 'C2', 'C2', 'C2', 'C2', 'C2', 'C2', 'C2', 'C2', 'C2', 'C2', 'C2', 'C2', 'C2', 'C2', 'C2', 'C2', 'C2', 'C2', 'C2', 'C2', 'C2', 'C2', 'C2', 'C2', 'C2', 'C2', 'C2', 'C2', 'C0']\n"
          ]
        }
      ],
      "source": [
        "print(dendrogram['color_list'])"
      ]
    },
    {
      "cell_type": "code",
      "execution_count": 23,
      "id": "5a3bd08a",
      "metadata": {
        "colab": {
          "base_uri": "https://localhost:8080/"
        },
        "id": "5a3bd08a",
        "outputId": "c3a00353-120b-4bfc-fa99-5c9f1964c705"
      },
      "outputs": [
        {
          "output_type": "execute_result",
          "data": {
            "text/plain": [
              "{'C0', 'C1', 'C2'}"
            ]
          },
          "metadata": {},
          "execution_count": 23
        }
      ],
      "source": [
        "unique_colour = set(dendrogram['color_list'])\n",
        "unique_colour"
      ]
    },
    {
      "cell_type": "code",
      "execution_count": 24,
      "id": "1fbb991d",
      "metadata": {
        "id": "1fbb991d"
      },
      "outputs": [],
      "source": [
        "optimal_number = len(unique_colour)-1"
      ]
    },
    {
      "cell_type": "code",
      "execution_count": 25,
      "id": "02a803fd",
      "metadata": {
        "id": "02a803fd"
      },
      "outputs": [],
      "source": [
        "hc = AgglomerativeClustering(n_clusters=optimal_number, affinity = 'euclidean', linkage = 'ward')"
      ]
    },
    {
      "cell_type": "code",
      "execution_count": 26,
      "id": "672b1710",
      "metadata": {
        "id": "672b1710"
      },
      "outputs": [],
      "source": [
        "y_hc = hc.fit_predict(df_norm)"
      ]
    },
    {
      "cell_type": "code",
      "execution_count": 27,
      "id": "29055f4c",
      "metadata": {
        "id": "29055f4c"
      },
      "outputs": [],
      "source": [
        "df['ward_cluster'] = y_hc"
      ]
    },
    {
      "cell_type": "code",
      "execution_count": 28,
      "id": "bc11e38e",
      "metadata": {
        "colab": {
          "base_uri": "https://localhost:8080/",
          "height": 265
        },
        "id": "bc11e38e",
        "outputId": "aaf3efc8-bdd1-4c4d-9539-3350db8506d4"
      },
      "outputs": [
        {
          "output_type": "display_data",
          "data": {
            "text/plain": [
              "<Figure size 432x288 with 1 Axes>"
            ],
            "image/png": "[encoded data removed]"
          },
          "metadata": {
            "needs_background": "light"
          }
        }
      ],
      "source": [
        "# create dendrogram using method as complete\n",
        "dendrogram2 = sch.dendrogram(sch.linkage(df_norm, method='single'))"
      ]
    },
    {
      "cell_type": "code",
      "execution_count": 29,
      "id": "1f2c0460",
      "metadata": {
        "scrolled": true,
        "colab": {
          "base_uri": "https://localhost:8080/"
        },
        "id": "1f2c0460",
        "outputId": "4b66b50d-0f67-4044-bd72-993a7d6a2e24"
      },
      "outputs": [
        {
          "output_type": "execute_result",
          "data": {
            "text/plain": [
              "{'C0', 'C1', 'C2'}"
            ]
          },
          "metadata": {},
          "execution_count": 29
        }
      ],
      "source": [
        "unique_colour = set(dendrogram['color_list'])\n",
        "unique_colour"
      ]
    },
    {
      "cell_type": "code",
      "execution_count": 30,
      "id": "ce2cb154",
      "metadata": {
        "colab": {
          "base_uri": "https://localhost:8080/"
        },
        "id": "ce2cb154",
        "outputId": "b07bbc32-4169-4cf1-c5a8-3cdeb35c9a45"
      },
      "outputs": [
        {
          "output_type": "execute_result",
          "data": {
            "text/plain": [
              "0    142\n",
              "1     36\n",
              "Name: ward_cluster, dtype: int64"
            ]
          },
          "metadata": {},
          "execution_count": 30
        }
      ],
      "source": [
        "df['ward_cluster'].value_counts()"
      ]
    },
    {
      "cell_type": "code",
      "execution_count": 31,
      "id": "a2e33ebe",
      "metadata": {
        "colab": {
          "base_uri": "https://localhost:8080/",
          "height": 351
        },
        "id": "a2e33ebe",
        "outputId": "d132d43c-ef4b-4e16-8f5b-4bcd4b11f48b"
      },
      "outputs": [
        {
          "output_type": "stream",
          "name": "stderr",
          "text": [
            "/usr/local/lib/python3.7/dist-packages/seaborn/_decorators.py:43: FutureWarning: Pass the following variable as a keyword arg: x. From version 0.12, the only valid positional argument will be `data`, and passing other arguments without an explicit keyword will result in an error or misinterpretation.\n",
            "  FutureWarning\n"
          ]
        },
        {
          "output_type": "execute_result",
          "data": {
            "text/plain": [
              "<matplotlib.axes._subplots.AxesSubplot at 0x7f4a51951110>"
            ]
          },
          "metadata": {},
          "execution_count": 31
        },
        {
          "output_type": "display_data",
          "data": {
            "text/plain": [
              "<Figure size 432x288 with 1 Axes>"
            ],
            "image/png": "[encoded data removed]"
          },
          "metadata": {
            "needs_background": "light"
          }
        }
      ],
      "source": [
        "sns.countplot(df['ward_cluster'])"
      ]
    },
    {
      "cell_type": "code",
      "execution_count": 32,
      "id": "52959a64",
      "metadata": {
        "id": "52959a64"
      },
      "outputs": [],
      "source": [
        "scaled = MinMaxScaler()"
      ]
    },
    {
      "cell_type": "code",
      "execution_count": 33,
      "id": "c255fbbe",
      "metadata": {
        "id": "c255fbbe"
      },
      "outputs": [],
      "source": [
        "df_scaled = scaled.fit_transform(df[['Type','Alcohol', 'Malic','Ash','Alcalinity','Magnesium','Phenols','Flavanoids','Nonflavanoids','Proanthocyanins','Color','Hue','Dilution','Proline']])"
      ]
    },
    {
      "cell_type": "code",
      "execution_count": 34,
      "id": "a1014a99",
      "metadata": {
        "id": "a1014a99"
      },
      "outputs": [],
      "source": [
        "#Checking the optimum No. of Clusters using Elbow plot\n",
        "sse = []\n",
        "k_rng = range(1,10)\n",
        "for k in k_rng:\n",
        "    km = KMeans(n_clusters=k)\n",
        "    km.fit(df_scaled)\n",
        "    sse.append(km.inertia_)"
      ]
    },
    {
      "cell_type": "code",
      "execution_count": 35,
      "id": "1f1f5b6a",
      "metadata": {
        "colab": {
          "base_uri": "https://localhost:8080/",
          "height": 296
        },
        "id": "1f1f5b6a",
        "outputId": "2154ce45-100f-4369-e207-b44d7d596d56"
      },
      "outputs": [
        {
          "output_type": "execute_result",
          "data": {
            "text/plain": [
              "[<matplotlib.lines.Line2D at 0x7f4a510cbc90>]"
            ]
          },
          "metadata": {},
          "execution_count": 35
        },
        {
          "output_type": "display_data",
          "data": {
            "text/plain": [
              "<Figure size 432x288 with 1 Axes>"
            ],
            "image/png": "[encoded data removed]"
          },
          "metadata": {
            "needs_background": "light"
          }
        }
      ],
      "source": [
        "# Plotting the elbow plot\n",
        "plt.xlabel('K')\n",
        "plt.ylabel('Sum of squared error')\n",
        "plt.plot(k_rng,sse)"
      ]
    },
    {
      "cell_type": "code",
      "execution_count": 36,
      "id": "d7b9ba01",
      "metadata": {
        "id": "d7b9ba01"
      },
      "outputs": [],
      "source": [
        "#Predicting the Clusters\n",
        "km = KMeans(n_clusters=3)\n",
        "y_pred = km.fit_predict(df_scaled)"
      ]
    },
    {
      "cell_type": "code",
      "execution_count": 37,
      "id": "6897bda9",
      "metadata": {
        "id": "6897bda9"
      },
      "outputs": [],
      "source": [
        "df['Km_cluster']=y_pred"
      ]
    },
    {
      "cell_type": "code",
      "execution_count": 38,
      "id": "6a10327c",
      "metadata": {
        "colab": {
          "base_uri": "https://localhost:8080/",
          "height": 483
        },
        "id": "6a10327c",
        "outputId": "c1aeddf7-78fc-4e14-ed1b-13b8ce55d89a"
      },
      "outputs": [
        {
          "output_type": "execute_result",
          "data": {
            "text/plain": [
              "     Type  Alcohol  Malic   Ash  Alcalinity  Magnesium  Phenols  Flavanoids  \\\n",
              "0       1    14.23   1.71  2.43        15.6        127     2.80        3.06   \n",
              "1       1    13.20   1.78  2.14        11.2        100     2.65        2.76   \n",
              "2       1    13.16   2.36  2.67        18.6        101     2.80        3.24   \n",
              "3       1    14.37   1.95  2.50        16.8        113     3.85        3.49   \n",
              "4       1    13.24   2.59  2.87        21.0        118     2.80        2.69   \n",
              "..    ...      ...    ...   ...         ...        ...      ...         ...   \n",
              "173     3    13.71   5.65  2.45        20.5         95     1.68        0.61   \n",
              "174     3    13.40   3.91  2.48        23.0        102     1.80        0.75   \n",
              "175     3    13.27   4.28  2.26        20.0        120     1.59        0.69   \n",
              "176     3    13.17   2.59  2.37        20.0        120     1.65        0.68   \n",
              "177     3    14.13   4.10  2.74        24.5         96     2.05        0.76   \n",
              "\n",
              "     Nonflavanoids  Proanthocyanins  Color   Hue  Dilution  Proline  \\\n",
              "0             0.28             2.29   5.64  1.04      3.92     1065   \n",
              "1             0.26             1.28   4.38  1.05      3.40     1050   \n",
              "2             0.30             2.81   5.68  1.03      3.17     1185   \n",
              "3             0.24             2.18   7.80  0.86      3.45     1480   \n",
              "4             0.39             1.82   4.32  1.04      2.93      735   \n",
              "..             ...              ...    ...   ...       ...      ...   \n",
              "173           0.52             1.06   7.70  0.64      1.74      740   \n",
              "174           0.43             1.41   7.30  0.70      1.56      750   \n",
              "175           0.43             1.35  10.20  0.59      1.56      835   \n",
              "176           0.53             1.46   9.30  0.60      1.62      840   \n",
              "177           0.56             1.35   9.20  0.61      1.60      560   \n",
              "\n",
              "     ward_cluster  Km_cluster  \n",
              "0               0           2  \n",
              "1               0           2  \n",
              "2               0           2  \n",
              "3               0           2  \n",
              "4               0           2  \n",
              "..            ...         ...  \n",
              "173             0           1  \n",
              "174             0           1  \n",
              "175             0           1  \n",
              "176             0           1  \n",
              "177             0           1  \n",
              "\n",
              "[178 rows x 16 columns]"
            ],
            "text/html": [
              "\n",
              "  <div id=\"df-c1c45139-7314-4453-ada9-b5d598697bf0\">\n",
              "    <div class=\"colab-df-container\">\n",
              "      <div>\n",
              "<style scoped>\n",
              "    .dataframe tbody tr th:only-of-type {\n",
              "        vertical-align: middle;\n",
              "    }\n",
              "\n",
              "    .dataframe tbody tr th {\n",
              "        vertical-align: top;\n",
              "    }\n",
              "\n",
              "    .dataframe thead th {\n",
              "        text-align: right;\n",
              "    }\n",
              "</style>\n",
              "<table border=\"1\" class=\"dataframe\">\n",
              "  <thead>\n",
              "    <tr style=\"text-align: right;\">\n",
              "      <th></th>\n",
              "      <th>Type</th>\n",
              "      <th>Alcohol</th>\n",
              "      <th>Malic</th>\n",
              "      <th>Ash</th>\n",
              "      <th>Alcalinity</th>\n",
              "      <th>Magnesium</th>\n",
              "      <th>Phenols</th>\n",
              "      <th>Flavanoids</th>\n",
              "      <th>Nonflavanoids</th>\n",
              "      <th>Proanthocyanins</th>\n",
              "      <th>Color</th>\n",
              "      <th>Hue</th>\n",
              "      <th>Dilution</th>\n",
              "      <th>Proline</th>\n",
              "      <th>ward_cluster</th>\n",
              "      <th>Km_cluster</th>\n",
              "    </tr>\n",
              "  </thead>\n",
              "  <tbody>\n",
              "    <tr>\n",
              "      <th>0</th>\n",
              "      <td>1</td>\n",
              "      <td>14.23</td>\n",
              "      <td>1.71</td>\n",
              "      <td>2.43</td>\n",
              "      <td>15.6</td>\n",
              "      <td>127</td>\n",
              "      <td>2.80</td>\n",
              "      <td>3.06</td>\n",
              "      <td>0.28</td>\n",
              "      <td>2.29</td>\n",
              "      <td>5.64</td>\n",
              "      <td>1.04</td>\n",
              "      <td>3.92</td>\n",
              "      <td>1065</td>\n",
              "      <td>0</td>\n",
              "      <td>2</td>\n",
              "    </tr>\n",
              "    <tr>\n",
              "      <th>1</th>\n",
              "      <td>1</td>\n",
              "      <td>13.20</td>\n",
              "      <td>1.78</td>\n",
              "      <td>2.14</td>\n",
              "      <td>11.2</td>\n",
              "      <td>100</td>\n",
              "      <td>2.65</td>\n",
              "      <td>2.76</td>\n",
              "      <td>0.26</td>\n",
              "      <td>1.28</td>\n",
              "      <td>4.38</td>\n",
              "      <td>1.05</td>\n",
              "      <td>3.40</td>\n",
              "      <td>1050</td>\n",
              "      <td>0</td>\n",
              "      <td>2</td>\n",
              "    </tr>\n",
              "    <tr>\n",
              "      <th>2</th>\n",
              "      <td>1</td>\n",
              "      <td>13.16</td>\n",
              "      <td>2.36</td>\n",
              "      <td>2.67</td>\n",
              "      <td>18.6</td>\n",
              "      <td>101</td>\n",
              "      <td>2.80</td>\n",
              "      <td>3.24</td>\n",
              "      <td>0.30</td>\n",
              "      <td>2.81</td>\n",
              "      <td>5.68</td>\n",
              "      <td>1.03</td>\n",
              "      <td>3.17</td>\n",
              "      <td>1185</td>\n",
              "      <td>0</td>\n",
              "      <td>2</td>\n",
              "    </tr>\n",
              "    <tr>\n",
              "      <th>3</th>\n",
              "      <td>1</td>\n",
              "      <td>14.37</td>\n",
              "      <td>1.95</td>\n",
              "      <td>2.50</td>\n",
              "      <td>16.8</td>\n",
              "      <td>113</td>\n",
              "      <td>3.85</td>\n",
              "      <td>3.49</td>\n",
              "      <td>0.24</td>\n",
              "      <td>2.18</td>\n",
              "      <td>7.80</td>\n",
              "      <td>0.86</td>\n",
              "      <td>3.45</td>\n",
              "      <td>1480</td>\n",
              "      <td>0</td>\n",
              "      <td>2</td>\n",
              "    </tr>\n",
              "    <tr>\n",
              "      <th>4</th>\n",
              "      <td>1</td>\n",
              "      <td>13.24</td>\n",
              "      <td>2.59</td>\n",
              "      <td>2.87</td>\n",
              "      <td>21.0</td>\n",
              "      <td>118</td>\n",
              "      <td>2.80</td>\n",
              "      <td>2.69</td>\n",
              "      <td>0.39</td>\n",
              "      <td>1.82</td>\n",
              "      <td>4.32</td>\n",
              "      <td>1.04</td>\n",
              "      <td>2.93</td>\n",
              "      <td>735</td>\n",
              "      <td>0</td>\n",
              "      <td>2</td>\n",
              "    </tr>\n",
              "    <tr>\n",
              "      <th>...</th>\n",
              "      <td>...</td>\n",
              "      <td>...</td>\n",
              "      <td>...</td>\n",
              "      <td>...</td>\n",
              "      <td>...</td>\n",
              "      <td>...</td>\n",
              "      <td>...</td>\n",
              "      <td>...</td>\n",
              "      <td>...</td>\n",
              "      <td>...</td>\n",
              "      <td>...</td>\n",
              "      <td>...</td>\n",
              "      <td>...</td>\n",
              "      <td>...</td>\n",
              "      <td>...</td>\n",
              "      <td>...</td>\n",
              "    </tr>\n",
              "    <tr>\n",
              "      <th>173</th>\n",
              "      <td>3</td>\n",
              "      <td>13.71</td>\n",
              "      <td>5.65</td>\n",
              "      <td>2.45</td>\n",
              "      <td>20.5</td>\n",
              "      <td>95</td>\n",
              "      <td>1.68</td>\n",
              "      <td>0.61</td>\n",
              "      <td>0.52</td>\n",
              "      <td>1.06</td>\n",
              "      <td>7.70</td>\n",
              "      <td>0.64</td>\n",
              "      <td>1.74</td>\n",
              "      <td>740</td>\n",
              "      <td>0</td>\n",
              "      <td>1</td>\n",
              "    </tr>\n",
              "    <tr>\n",
              "      <th>174</th>\n",
              "      <td>3</td>\n",
              "      <td>13.40</td>\n",
              "      <td>3.91</td>\n",
              "      <td>2.48</td>\n",
              "      <td>23.0</td>\n",
              "      <td>102</td>\n",
              "      <td>1.80</td>\n",
              "      <td>0.75</td>\n",
              "      <td>0.43</td>\n",
              "      <td>1.41</td>\n",
              "      <td>7.30</td>\n",
              "      <td>0.70</td>\n",
              "      <td>1.56</td>\n",
              "      <td>750</td>\n",
              "      <td>0</td>\n",
              "      <td>1</td>\n",
              "    </tr>\n",
              "    <tr>\n",
              "      <th>175</th>\n",
              "      <td>3</td>\n",
              "      <td>13.27</td>\n",
              "      <td>4.28</td>\n",
              "      <td>2.26</td>\n",
              "      <td>20.0</td>\n",
              "      <td>120</td>\n",
              "      <td>1.59</td>\n",
              "      <td>0.69</td>\n",
              "      <td>0.43</td>\n",
              "      <td>1.35</td>\n",
              "      <td>10.20</td>\n",
              "      <td>0.59</td>\n",
              "      <td>1.56</td>\n",
              "      <td>835</td>\n",
              "      <td>0</td>\n",
              "      <td>1</td>\n",
              "    </tr>\n",
              "    <tr>\n",
              "      <th>176</th>\n",
              "      <td>3</td>\n",
              "      <td>13.17</td>\n",
              "      <td>2.59</td>\n",
              "      <td>2.37</td>\n",
              "      <td>20.0</td>\n",
              "      <td>120</td>\n",
              "      <td>1.65</td>\n",
              "      <td>0.68</td>\n",
              "      <td>0.53</td>\n",
              "      <td>1.46</td>\n",
              "      <td>9.30</td>\n",
              "      <td>0.60</td>\n",
              "      <td>1.62</td>\n",
              "      <td>840</td>\n",
              "      <td>0</td>\n",
              "      <td>1</td>\n",
              "    </tr>\n",
              "    <tr>\n",
              "      <th>177</th>\n",
              "      <td>3</td>\n",
              "      <td>14.13</td>\n",
              "      <td>4.10</td>\n",
              "      <td>2.74</td>\n",
              "      <td>24.5</td>\n",
              "      <td>96</td>\n",
              "      <td>2.05</td>\n",
              "      <td>0.76</td>\n",
              "      <td>0.56</td>\n",
              "      <td>1.35</td>\n",
              "      <td>9.20</td>\n",
              "      <td>0.61</td>\n",
              "      <td>1.60</td>\n",
              "      <td>560</td>\n",
              "      <td>0</td>\n",
              "      <td>1</td>\n",
              "    </tr>\n",
              "  </tbody>\n",
              "</table>\n",
              "<p>178 rows × 16 columns</p>\n",
              "</div>\n",
              "      <button class=\"colab-df-convert\" onclick=\"convertToInteractive('df-c1c45139-7314-4453-ada9-b5d598697bf0')\"\n",
              "              title=\"Convert this dataframe to an interactive table.\"\n",
              "              style=\"display:none;\">\n",
              "        \n",
              "  <svg xmlns=\"http://www.w3.org/2000/svg\" height=\"24px\"viewBox=\"0 0 24 24\"\n",
              "       width=\"24px\">\n",
              "    <path d=\"M0 0h24v24H0V0z\" fill=\"none\"/>\n",
              "    <path d=\"M18.56 5.44l.94 2.06.94-2.06 2.06-.94-2.06-.94-.94-2.06-.94 2.06-2.06.94zm-11 1L8.5 8.5l.94-2.06 2.06-.94-2.06-.94L8.5 2.5l-.94 2.06-2.06.94zm10 10l.94 2.06.94-2.06 2.06-.94-2.06-.94-.94-2.06-.94 2.06-2.06.94z\"/><path d=\"M17.41 7.96l-1.37-1.37c-.4-.4-.92-.59-1.43-.59-.52 0-1.04.2-1.43.59L10.3 9.45l-7.72 7.72c-.78.78-.78 2.05 0 2.83L4 21.41c.39.39.9.59 1.41.59.51 0 1.02-.2 1.41-.59l7.78-7.78 2.81-2.81c.8-.78.8-2.07 0-2.86zM5.41 20L4 18.59l7.72-7.72 1.47 1.35L5.41 20z\"/>\n",
              "  </svg>\n",
              "      </button>\n",
              "      \n",
              "  <style>\n",
              "    .colab-df-container {\n",
              "      display:flex;\n",
              "      flex-wrap:wrap;\n",
              "      gap: 12px;\n",
              "    }\n",
              "\n",
              "    .colab-df-convert {\n",
              "      background-color: #E8F0FE;\n",
              "      border: none;\n",
              "      border-radius: 50%;\n",
              "      cursor: pointer;\n",
              "      display: none;\n",
              "      fill: #1967D2;\n",
              "      height: 32px;\n",
              "      padding: 0 0 0 0;\n",
              "      width: 32px;\n",
              "    }\n",
              "\n",
              "    .colab-df-convert:hover {\n",
              "      background-color: #E2EBFA;\n",
              "      box-shadow: 0px 1px 2px rgba(60, 64, 67, 0.3), 0px 1px 3px 1px rgba(60, 64, 67, 0.15);\n",
              "      fill: #174EA6;\n",
              "    }\n",
              "\n",
              "    [theme=dark] .colab-df-convert {\n",
              "      background-color: #3B4455;\n",
              "      fill: #D2E3FC;\n",
              "    }\n",
              "\n",
              "    [theme=dark] .colab-df-convert:hover {\n",
              "      background-color: #434B5C;\n",
              "      box-shadow: 0px 1px 3px 1px rgba(0, 0, 0, 0.15);\n",
              "      filter: drop-shadow(0px 1px 2px rgba(0, 0, 0, 0.3));\n",
              "      fill: #FFFFFF;\n",
              "    }\n",
              "  </style>\n",
              "\n",
              "      <script>\n",
              "        const buttonEl =\n",
              "          document.querySelector('#df-c1c45139-7314-4453-ada9-b5d598697bf0 button.colab-df-convert');\n",
              "        buttonEl.style.display =\n",
              "          google.colab.kernel.accessAllowed ? 'block' : 'none';\n",
              "\n",
              "        async function convertToInteractive(key) {\n",
              "          const element = document.querySelector('#df-c1c45139-7314-4453-ada9-b5d598697bf0');\n",
              "          const dataTable =\n",
              "            await google.colab.kernel.invokeFunction('convertToInteractive',\n",
              "                                                     [key], {});\n",
              "          if (!dataTable) return;\n",
              "\n",
              "          const docLinkHtml = 'Like what you see? Visit the ' +\n",
              "            '<a target=\"_blank\" href=https://colab.research.google.com/notebooks/data_table.ipynb>data table notebook</a>'\n",
              "            + ' to learn more about interactive tables.';\n",
              "          element.innerHTML = '';\n",
              "          dataTable['output_type'] = 'display_data';\n",
              "          await google.colab.output.renderOutput(dataTable, element);\n",
              "          const docLink = document.createElement('div');\n",
              "          docLink.innerHTML = docLinkHtml;\n",
              "          element.appendChild(docLink);\n",
              "        }\n",
              "      </script>\n",
              "    </div>\n",
              "  </div>\n",
              "  "
            ]
          },
          "metadata": {},
          "execution_count": 38
        }
      ],
      "source": [
        "df"
      ]
    },
    {
      "cell_type": "code",
      "execution_count": 39,
      "id": "03632224",
      "metadata": {
        "colab": {
          "base_uri": "https://localhost:8080/"
        },
        "id": "03632224",
        "outputId": "fe257a66-918d-4e66-b833-f4f48d6bb07c"
      },
      "outputs": [
        {
          "output_type": "execute_result",
          "data": {
            "text/plain": [
              "0    69\n",
              "2    60\n",
              "1    49\n",
              "Name: Km_cluster, dtype: int64"
            ]
          },
          "metadata": {},
          "execution_count": 39
        }
      ],
      "source": [
        "df['Km_cluster'].value_counts()"
      ]
    },
    {
      "cell_type": "code",
      "execution_count": 40,
      "id": "c08785b1",
      "metadata": {
        "colab": {
          "base_uri": "https://localhost:8080/",
          "height": 351
        },
        "id": "c08785b1",
        "outputId": "65b88b58-dfcf-4bf2-f8d8-7c7e983aec27"
      },
      "outputs": [
        {
          "output_type": "stream",
          "name": "stderr",
          "text": [
            "/usr/local/lib/python3.7/dist-packages/seaborn/_decorators.py:43: FutureWarning: Pass the following variable as a keyword arg: x. From version 0.12, the only valid positional argument will be `data`, and passing other arguments without an explicit keyword will result in an error or misinterpretation.\n",
            "  FutureWarning\n"
          ]
        },
        {
          "output_type": "execute_result",
          "data": {
            "text/plain": [
              "<matplotlib.axes._subplots.AxesSubplot at 0x7f4a515e7990>"
            ]
          },
          "metadata": {},
          "execution_count": 40
        },
        {
          "output_type": "display_data",
          "data": {
            "text/plain": [
              "<Figure size 432x288 with 1 Axes>"
            ],
            "image/png": "[encoded data removed]"
          },
          "metadata": {
            "needs_background": "light"
          }
        }
      ],
      "source": [
        "sns.countplot(df['Km_cluster'])"
      ]
    },
    {
      "cell_type": "code",
      "execution_count": 43,
      "id": "8e5cc414",
      "metadata": {
        "id": "8e5cc414"
      },
      "outputs": [],
      "source": [
        "pca = PCA(0.95)"
      ]
    },
    {
      "cell_type": "code",
      "execution_count": 44,
      "id": "3295d265",
      "metadata": {
        "id": "3295d265"
      },
      "outputs": [],
      "source": [
        "from sklearn.preprocessing import scale "
      ]
    },
    {
      "cell_type": "code",
      "execution_count": 46,
      "id": "af02db4a",
      "metadata": {
        "id": "af02db4a"
      },
      "outputs": [],
      "source": [
        "X_scaler = scale(df)"
      ]
    },
    {
      "cell_type": "code",
      "execution_count": 47,
      "id": "b5b13247",
      "metadata": {
        "id": "b5b13247"
      },
      "outputs": [],
      "source": [
        "X_pca = pca.fit_transform(X_scaler)"
      ]
    },
    {
      "cell_type": "code",
      "execution_count": 48,
      "id": "023effa4",
      "metadata": {
        "colab": {
          "base_uri": "https://localhost:8080/"
        },
        "id": "023effa4",
        "outputId": "151f4d5f-2686-4edd-8506-faaaf9993c16"
      },
      "outputs": [
        {
          "output_type": "execute_result",
          "data": {
            "text/plain": [
              "array([[ 3.86733269, -1.09019249,  0.11292464, ...,  0.01653548,\n",
              "         1.07027671, -0.41019592],\n",
              "       [ 2.7735478 , -0.06192689, -2.14036904, ..., -1.01015203,\n",
              "        -0.1013301 , -0.12014888],\n",
              "       [ 3.10586145, -0.84425079,  1.01784671, ..., -0.01646124,\n",
              "        -0.77745342, -0.85419286],\n",
              "       ...,\n",
              "       [-2.59106028, -3.09773561, -0.31785256, ..., -0.03600339,\n",
              "        -0.08585606,  0.40656693],\n",
              "       [-2.37800354, -2.65562958, -0.13790773, ..., -0.44779385,\n",
              "         0.4393209 , -0.09466331],\n",
              "       [-3.05035902, -3.12125562,  1.36053324, ...,  0.49291626,\n",
              "         0.3919036 ,  0.33154585]])"
            ]
          },
          "metadata": {},
          "execution_count": 48
        }
      ],
      "source": [
        "X_pca"
      ]
    },
    {
      "cell_type": "code",
      "execution_count": 50,
      "id": "1c3346f9",
      "metadata": {
        "id": "1c3346f9"
      },
      "outputs": [],
      "source": [
        "var = pca.explained_variance_ratio_"
      ]
    },
    {
      "cell_type": "code",
      "source": [
        "pca.components_"
      ],
      "metadata": {
        "id": "kDcZb1qNYdAL"
      },
      "id": "kDcZb1qNYdAL",
      "execution_count": null,
      "outputs": []
    },
    {
      "cell_type": "code",
      "source": [
        "# Variance plot for PCA components obtained \n",
        "plt.plot(var,color=\"red\")"
      ],
      "metadata": {
        "colab": {
          "base_uri": "https://localhost:8080/",
          "height": 282
        },
        "id": "QnRY-JOdYfwN",
        "outputId": "c0a20af1-4109-4be0-8603-4e1fa0d58b16"
      },
      "id": "QnRY-JOdYfwN",
      "execution_count": 53,
      "outputs": [
        {
          "output_type": "execute_result",
          "data": {
            "text/plain": [
              "[<matplotlib.lines.Line2D at 0x7f4a4cbb4a10>]"
            ]
          },
          "metadata": {},
          "execution_count": 53
        },
        {
          "output_type": "display_data",
          "data": {
            "text/plain": [
              "<Figure size 432x288 with 1 Axes>"
            ],
            "image/png": "[encoded data removed]"
          },
          "metadata": {
            "needs_background": "light"
          }
        }
      ]
    },
    {
      "cell_type": "code",
      "source": [
        "# Forming a dendogram with PCA Data\n",
        "dendrogram = sch.dendrogram(sch.linkage(X_pca, method='ward'))"
      ],
      "metadata": {
        "colab": {
          "base_uri": "https://localhost:8080/",
          "height": 265
        },
        "id": "Px2wm_QBYnnT",
        "outputId": "067bcb9f-0b58-48e1-f01b-09b6c8ec55b9"
      },
      "id": "Px2wm_QBYnnT",
      "execution_count": 54,
      "outputs": [
        {
          "output_type": "display_data",
          "data": {
            "text/plain": [
              "<Figure size 432x288 with 1 Axes>"
            ],
            "image/png": "[encoded data removed]"
          },
          "metadata": {
            "needs_background": "light"
          }
        }
      ]
    },
    {
      "cell_type": "code",
      "source": [
        "print(dendrogram['color_list'])"
      ],
      "metadata": {
        "colab": {
          "base_uri": "https://localhost:8080/"
        },
        "id": "QJMvXtmYZCTY",
        "outputId": "cccd8aab-4c65-4806-d386-7e1223a01819"
      },
      "id": "QJMvXtmYZCTY",
      "execution_count": 55,
      "outputs": [
        {
          "output_type": "stream",
          "name": "stdout",
          "text": [
            "['C1', 'C1', 'C1', 'C1', 'C1', 'C1', 'C1', 'C1', 'C1', 'C1', 'C1', 'C1', 'C1', 'C1', 'C1', 'C1', 'C1', 'C1', 'C1', 'C1', 'C1', 'C1', 'C1', 'C1', 'C1', 'C1', 'C1', 'C1', 'C1', 'C1', 'C1', 'C1', 'C1', 'C1', 'C1', 'C1', 'C1', 'C1', 'C1', 'C1', 'C1', 'C1', 'C1', 'C1', 'C1', 'C1', 'C1', 'C1', 'C1', 'C1', 'C1', 'C1', 'C1', 'C1', 'C1', 'C1', 'C1', 'C1', 'C1', 'C2', 'C2', 'C2', 'C2', 'C2', 'C2', 'C2', 'C2', 'C2', 'C2', 'C2', 'C2', 'C2', 'C2', 'C2', 'C2', 'C2', 'C2', 'C2', 'C2', 'C2', 'C2', 'C2', 'C2', 'C2', 'C2', 'C2', 'C2', 'C2', 'C2', 'C2', 'C2', 'C2', 'C2', 'C2', 'C2', 'C2', 'C2', 'C2', 'C2', 'C2', 'C2', 'C2', 'C2', 'C2', 'C2', 'C2', 'C2', 'C2', 'C2', 'C3', 'C3', 'C3', 'C3', 'C3', 'C3', 'C3', 'C3', 'C3', 'C3', 'C3', 'C3', 'C3', 'C3', 'C3', 'C3', 'C3', 'C3', 'C3', 'C3', 'C3', 'C3', 'C3', 'C3', 'C3', 'C3', 'C3', 'C3', 'C3', 'C3', 'C3', 'C3', 'C3', 'C3', 'C3', 'C3', 'C3', 'C3', 'C3', 'C3', 'C3', 'C3', 'C3', 'C3', 'C3', 'C3', 'C3', 'C3', 'C3', 'C3', 'C3', 'C3', 'C3', 'C3', 'C3', 'C3', 'C3', 'C3', 'C3', 'C3', 'C3', 'C3', 'C3', 'C3', 'C3', 'C3', 'C0', 'C0']\n"
          ]
        }
      ]
    },
    {
      "cell_type": "code",
      "source": [
        "unique_colour = set(dendrogram['color_list'])\n",
        "unique_colour"
      ],
      "metadata": {
        "colab": {
          "base_uri": "https://localhost:8080/"
        },
        "id": "egvvuOX1ZK4T",
        "outputId": "1c7d8263-098b-4715-9dcc-cea1a6d3701d"
      },
      "id": "egvvuOX1ZK4T",
      "execution_count": 56,
      "outputs": [
        {
          "output_type": "execute_result",
          "data": {
            "text/plain": [
              "{'C0', 'C1', 'C2', 'C3'}"
            ]
          },
          "metadata": {},
          "execution_count": 56
        }
      ]
    },
    {
      "cell_type": "code",
      "source": [
        "optimal_number = len(unique_colour)-1"
      ],
      "metadata": {
        "id": "MSyZAbScZPcD"
      },
      "id": "MSyZAbScZPcD",
      "execution_count": 57,
      "outputs": []
    },
    {
      "cell_type": "code",
      "source": [
        "hc = AgglomerativeClustering(n_clusters=optimal_number, affinity = 'euclidean', linkage = 'ward')"
      ],
      "metadata": {
        "id": "E2Qr5TVmZUAQ"
      },
      "id": "E2Qr5TVmZUAQ",
      "execution_count": 58,
      "outputs": []
    },
    {
      "cell_type": "code",
      "source": [
        "y_hc = hc.fit_predict(X_pca)"
      ],
      "metadata": {
        "id": "MQBIyN5qZX85"
      },
      "id": "MQBIyN5qZX85",
      "execution_count": 59,
      "outputs": []
    },
    {
      "cell_type": "code",
      "source": [
        "df['ward_pca_cluster'] = y_hc"
      ],
      "metadata": {
        "id": "P0h1VGo8Zeik"
      },
      "id": "P0h1VGo8Zeik",
      "execution_count": 60,
      "outputs": []
    },
    {
      "cell_type": "code",
      "source": [
        "df['ward_pca_cluster'].value_counts()"
      ],
      "metadata": {
        "colab": {
          "base_uri": "https://localhost:8080/"
        },
        "id": "ghqtZiqfZjsC",
        "outputId": "daa98c89-b41a-4d4f-afd8-77ae2af23bac"
      },
      "id": "ghqtZiqfZjsC",
      "execution_count": 61,
      "outputs": [
        {
          "output_type": "execute_result",
          "data": {
            "text/plain": [
              "0    67\n",
              "1    60\n",
              "2    51\n",
              "Name: ward_pca_cluster, dtype: int64"
            ]
          },
          "metadata": {},
          "execution_count": 61
        }
      ]
    },
    {
      "cell_type": "code",
      "source": [
        "sns.countplot(df['ward_pca_cluster'])"
      ],
      "metadata": {
        "colab": {
          "base_uri": "https://localhost:8080/",
          "height": 354
        },
        "id": "iyogtYMNZp36",
        "outputId": "129c9a3e-2fa5-450d-d1d4-e261af926120"
      },
      "id": "iyogtYMNZp36",
      "execution_count": 62,
      "outputs": [
        {
          "output_type": "stream",
          "name": "stderr",
          "text": [
            "/usr/local/lib/python3.7/dist-packages/seaborn/_decorators.py:43: FutureWarning: Pass the following variable as a keyword arg: x. From version 0.12, the only valid positional argument will be `data`, and passing other arguments without an explicit keyword will result in an error or misinterpretation.\n",
            "  FutureWarning\n"
          ]
        },
        {
          "output_type": "execute_result",
          "data": {
            "text/plain": [
              "<matplotlib.axes._subplots.AxesSubplot at 0x7f4a4c666190>"
            ]
          },
          "metadata": {},
          "execution_count": 62
        },
        {
          "output_type": "display_data",
          "data": {
            "text/plain": [
              "<Figure size 432x288 with 1 Axes>"
            ],
            "image/png": "[encoded data removed]"
          },
          "metadata": {
            "needs_background": "light"
          }
        }
      ]
    },
    {
      "cell_type": "code",
      "source": [
        "#Checking the optimum No. of Clusters using Elbow plot for PCA Data\n",
        "sse = []\n",
        "k_rng = range(1,10)\n",
        "for k in k_rng:\n",
        "    km = KMeans(n_clusters=k)\n",
        "    km.fit(X_pca)\n",
        "    sse.append(km.inertia_)"
      ],
      "metadata": {
        "id": "I3d5-aabZuzJ"
      },
      "id": "I3d5-aabZuzJ",
      "execution_count": 64,
      "outputs": []
    },
    {
      "cell_type": "code",
      "source": [
        "# Plotting the elbow plot\n",
        "plt.xlabel('K')\n",
        "plt.ylabel('Sum of squared error')\n",
        "plt.plot(k_rng,sse)"
      ],
      "metadata": {
        "colab": {
          "base_uri": "https://localhost:8080/",
          "height": 296
        },
        "id": "LZpoHUaPZ40l",
        "outputId": "ac03f4cc-57b8-4141-b26c-e035b39fe41b"
      },
      "id": "LZpoHUaPZ40l",
      "execution_count": 65,
      "outputs": [
        {
          "output_type": "execute_result",
          "data": {
            "text/plain": [
              "[<matplotlib.lines.Line2D at 0x7f4a4c556150>]"
            ]
          },
          "metadata": {},
          "execution_count": 65
        },
        {
          "output_type": "display_data",
          "data": {
            "text/plain": [
              "<Figure size 432x288 with 1 Axes>"
            ],
            "image/png": "[encoded data removed]"
          },
          "metadata": {
            "needs_background": "light"
          }
        }
      ]
    },
    {
      "cell_type": "code",
      "source": [
        "#Predicting the Clusters\n",
        "km = KMeans(n_clusters=3)\n",
        "y_pred = km.fit_predict(df_scaled)"
      ],
      "metadata": {
        "id": "hFet_wV-Z-GQ"
      },
      "id": "hFet_wV-Z-GQ",
      "execution_count": 66,
      "outputs": []
    },
    {
      "cell_type": "code",
      "source": [
        "df['Km_PCA_cluster']=y_pred"
      ],
      "metadata": {
        "id": "n8I0F8IuaDBH"
      },
      "id": "n8I0F8IuaDBH",
      "execution_count": 67,
      "outputs": []
    },
    {
      "cell_type": "code",
      "source": [
        "df"
      ],
      "metadata": {
        "colab": {
          "base_uri": "https://localhost:8080/",
          "height": 483
        },
        "id": "ROJysflOaIkj",
        "outputId": "84f43d91-736e-45ad-94f7-2f1364fd6a3d"
      },
      "id": "ROJysflOaIkj",
      "execution_count": 68,
      "outputs": [
        {
          "output_type": "execute_result",
          "data": {
            "text/plain": [
              "     Type  Alcohol  Malic   Ash  Alcalinity  Magnesium  Phenols  Flavanoids  \\\n",
              "0       1    14.23   1.71  2.43        15.6        127     2.80        3.06   \n",
              "1       1    13.20   1.78  2.14        11.2        100     2.65        2.76   \n",
              "2       1    13.16   2.36  2.67        18.6        101     2.80        3.24   \n",
              "3       1    14.37   1.95  2.50        16.8        113     3.85        3.49   \n",
              "4       1    13.24   2.59  2.87        21.0        118     2.80        2.69   \n",
              "..    ...      ...    ...   ...         ...        ...      ...         ...   \n",
              "173     3    13.71   5.65  2.45        20.5         95     1.68        0.61   \n",
              "174     3    13.40   3.91  2.48        23.0        102     1.80        0.75   \n",
              "175     3    13.27   4.28  2.26        20.0        120     1.59        0.69   \n",
              "176     3    13.17   2.59  2.37        20.0        120     1.65        0.68   \n",
              "177     3    14.13   4.10  2.74        24.5         96     2.05        0.76   \n",
              "\n",
              "     Nonflavanoids  Proanthocyanins  Color   Hue  Dilution  Proline  \\\n",
              "0             0.28             2.29   5.64  1.04      3.92     1065   \n",
              "1             0.26             1.28   4.38  1.05      3.40     1050   \n",
              "2             0.30             2.81   5.68  1.03      3.17     1185   \n",
              "3             0.24             2.18   7.80  0.86      3.45     1480   \n",
              "4             0.39             1.82   4.32  1.04      2.93      735   \n",
              "..             ...              ...    ...   ...       ...      ...   \n",
              "173           0.52             1.06   7.70  0.64      1.74      740   \n",
              "174           0.43             1.41   7.30  0.70      1.56      750   \n",
              "175           0.43             1.35  10.20  0.59      1.56      835   \n",
              "176           0.53             1.46   9.30  0.60      1.62      840   \n",
              "177           0.56             1.35   9.20  0.61      1.60      560   \n",
              "\n",
              "     ward_cluster  Km_cluster  ward_pca_cluster  Km_PCA_cluster  \n",
              "0               0           2                 1               1  \n",
              "1               0           2                 1               1  \n",
              "2               0           2                 1               1  \n",
              "3               0           2                 1               1  \n",
              "4               0           2                 1               1  \n",
              "..            ...         ...               ...             ...  \n",
              "173             0           1                 2               0  \n",
              "174             0           1                 2               0  \n",
              "175             0           1                 2               0  \n",
              "176             0           1                 2               0  \n",
              "177             0           1                 2               0  \n",
              "\n",
              "[178 rows x 18 columns]"
            ],
            "text/html": [
              "\n",
              "  <div id=\"df-5655468f-9393-400b-8b87-af50646a2b98\">\n",
              "    <div class=\"colab-df-container\">\n",
              "      <div>\n",
              "<style scoped>\n",
              "    .dataframe tbody tr th:only-of-type {\n",
              "        vertical-align: middle;\n",
              "    }\n",
              "\n",
              "    .dataframe tbody tr th {\n",
              "        vertical-align: top;\n",
              "    }\n",
              "\n",
              "    .dataframe thead th {\n",
              "        text-align: right;\n",
              "    }\n",
              "</style>\n",
              "<table border=\"1\" class=\"dataframe\">\n",
              "  <thead>\n",
              "    <tr style=\"text-align: right;\">\n",
              "      <th></th>\n",
              "      <th>Type</th>\n",
              "      <th>Alcohol</th>\n",
              "      <th>Malic</th>\n",
              "      <th>Ash</th>\n",
              "      <th>Alcalinity</th>\n",
              "      <th>Magnesium</th>\n",
              "      <th>Phenols</th>\n",
              "      <th>Flavanoids</th>\n",
              "      <th>Nonflavanoids</th>\n",
              "      <th>Proanthocyanins</th>\n",
              "      <th>Color</th>\n",
              "      <th>Hue</th>\n",
              "      <th>Dilution</th>\n",
              "      <th>Proline</th>\n",
              "      <th>ward_cluster</th>\n",
              "      <th>Km_cluster</th>\n",
              "      <th>ward_pca_cluster</th>\n",
              "      <th>Km_PCA_cluster</th>\n",
              "    </tr>\n",
              "  </thead>\n",
              "  <tbody>\n",
              "    <tr>\n",
              "      <th>0</th>\n",
              "      <td>1</td>\n",
              "      <td>14.23</td>\n",
              "      <td>1.71</td>\n",
              "      <td>2.43</td>\n",
              "      <td>15.6</td>\n",
              "      <td>127</td>\n",
              "      <td>2.80</td>\n",
              "      <td>3.06</td>\n",
              "      <td>0.28</td>\n",
              "      <td>2.29</td>\n",
              "      <td>5.64</td>\n",
              "      <td>1.04</td>\n",
              "      <td>3.92</td>\n",
              "      <td>1065</td>\n",
              "      <td>0</td>\n",
              "      <td>2</td>\n",
              "      <td>1</td>\n",
              "      <td>1</td>\n",
              "    </tr>\n",
              "    <tr>\n",
              "      <th>1</th>\n",
              "      <td>1</td>\n",
              "      <td>13.20</td>\n",
              "      <td>1.78</td>\n",
              "      <td>2.14</td>\n",
              "      <td>11.2</td>\n",
              "      <td>100</td>\n",
              "      <td>2.65</td>\n",
              "      <td>2.76</td>\n",
              "      <td>0.26</td>\n",
              "      <td>1.28</td>\n",
              "      <td>4.38</td>\n",
              "      <td>1.05</td>\n",
              "      <td>3.40</td>\n",
              "      <td>1050</td>\n",
              "      <td>0</td>\n",
              "      <td>2</td>\n",
              "      <td>1</td>\n",
              "      <td>1</td>\n",
              "    </tr>\n",
              "    <tr>\n",
              "      <th>2</th>\n",
              "      <td>1</td>\n",
              "      <td>13.16</td>\n",
              "      <td>2.36</td>\n",
              "      <td>2.67</td>\n",
              "      <td>18.6</td>\n",
              "      <td>101</td>\n",
              "      <td>2.80</td>\n",
              "      <td>3.24</td>\n",
              "      <td>0.30</td>\n",
              "      <td>2.81</td>\n",
              "      <td>5.68</td>\n",
              "      <td>1.03</td>\n",
              "      <td>3.17</td>\n",
              "      <td>1185</td>\n",
              "      <td>0</td>\n",
              "      <td>2</td>\n",
              "      <td>1</td>\n",
              "      <td>1</td>\n",
              "    </tr>\n",
              "    <tr>\n",
              "      <th>3</th>\n",
              "      <td>1</td>\n",
              "      <td>14.37</td>\n",
              "      <td>1.95</td>\n",
              "      <td>2.50</td>\n",
              "      <td>16.8</td>\n",
              "      <td>113</td>\n",
              "      <td>3.85</td>\n",
              "      <td>3.49</td>\n",
              "      <td>0.24</td>\n",
              "      <td>2.18</td>\n",
              "      <td>7.80</td>\n",
              "      <td>0.86</td>\n",
              "      <td>3.45</td>\n",
              "      <td>1480</td>\n",
              "      <td>0</td>\n",
              "      <td>2</td>\n",
              "      <td>1</td>\n",
              "      <td>1</td>\n",
              "    </tr>\n",
              "    <tr>\n",
              "      <th>4</th>\n",
              "      <td>1</td>\n",
              "      <td>13.24</td>\n",
              "      <td>2.59</td>\n",
              "      <td>2.87</td>\n",
              "      <td>21.0</td>\n",
              "      <td>118</td>\n",
              "      <td>2.80</td>\n",
              "      <td>2.69</td>\n",
              "      <td>0.39</td>\n",
              "      <td>1.82</td>\n",
              "      <td>4.32</td>\n",
              "      <td>1.04</td>\n",
              "      <td>2.93</td>\n",
              "      <td>735</td>\n",
              "      <td>0</td>\n",
              "      <td>2</td>\n",
              "      <td>1</td>\n",
              "      <td>1</td>\n",
              "    </tr>\n",
              "    <tr>\n",
              "      <th>...</th>\n",
              "      <td>...</td>\n",
              "      <td>...</td>\n",
              "      <td>...</td>\n",
              "      <td>...</td>\n",
              "      <td>...</td>\n",
              "      <td>...</td>\n",
              "      <td>...</td>\n",
              "      <td>...</td>\n",
              "      <td>...</td>\n",
              "      <td>...</td>\n",
              "      <td>...</td>\n",
              "      <td>...</td>\n",
              "      <td>...</td>\n",
              "      <td>...</td>\n",
              "      <td>...</td>\n",
              "      <td>...</td>\n",
              "      <td>...</td>\n",
              "      <td>...</td>\n",
              "    </tr>\n",
              "    <tr>\n",
              "      <th>173</th>\n",
              "      <td>3</td>\n",
              "      <td>13.71</td>\n",
              "      <td>5.65</td>\n",
              "      <td>2.45</td>\n",
              "      <td>20.5</td>\n",
              "      <td>95</td>\n",
              "      <td>1.68</td>\n",
              "      <td>0.61</td>\n",
              "      <td>0.52</td>\n",
              "      <td>1.06</td>\n",
              "      <td>7.70</td>\n",
              "      <td>0.64</td>\n",
              "      <td>1.74</td>\n",
              "      <td>740</td>\n",
              "      <td>0</td>\n",
              "      <td>1</td>\n",
              "      <td>2</td>\n",
              "      <td>0</td>\n",
              "    </tr>\n",
              "    <tr>\n",
              "      <th>174</th>\n",
              "      <td>3</td>\n",
              "      <td>13.40</td>\n",
              "      <td>3.91</td>\n",
              "      <td>2.48</td>\n",
              "      <td>23.0</td>\n",
              "      <td>102</td>\n",
              "      <td>1.80</td>\n",
              "      <td>0.75</td>\n",
              "      <td>0.43</td>\n",
              "      <td>1.41</td>\n",
              "      <td>7.30</td>\n",
              "      <td>0.70</td>\n",
              "      <td>1.56</td>\n",
              "      <td>750</td>\n",
              "      <td>0</td>\n",
              "      <td>1</td>\n",
              "      <td>2</td>\n",
              "      <td>0</td>\n",
              "    </tr>\n",
              "    <tr>\n",
              "      <th>175</th>\n",
              "      <td>3</td>\n",
              "      <td>13.27</td>\n",
              "      <td>4.28</td>\n",
              "      <td>2.26</td>\n",
              "      <td>20.0</td>\n",
              "      <td>120</td>\n",
              "      <td>1.59</td>\n",
              "      <td>0.69</td>\n",
              "      <td>0.43</td>\n",
              "      <td>1.35</td>\n",
              "      <td>10.20</td>\n",
              "      <td>0.59</td>\n",
              "      <td>1.56</td>\n",
              "      <td>835</td>\n",
              "      <td>0</td>\n",
              "      <td>1</td>\n",
              "      <td>2</td>\n",
              "      <td>0</td>\n",
              "    </tr>\n",
              "    <tr>\n",
              "      <th>176</th>\n",
              "      <td>3</td>\n",
              "      <td>13.17</td>\n",
              "      <td>2.59</td>\n",
              "      <td>2.37</td>\n",
              "      <td>20.0</td>\n",
              "      <td>120</td>\n",
              "      <td>1.65</td>\n",
              "      <td>0.68</td>\n",
              "      <td>0.53</td>\n",
              "      <td>1.46</td>\n",
              "      <td>9.30</td>\n",
              "      <td>0.60</td>\n",
              "      <td>1.62</td>\n",
              "      <td>840</td>\n",
              "      <td>0</td>\n",
              "      <td>1</td>\n",
              "      <td>2</td>\n",
              "      <td>0</td>\n",
              "    </tr>\n",
              "    <tr>\n",
              "      <th>177</th>\n",
              "      <td>3</td>\n",
              "      <td>14.13</td>\n",
              "      <td>4.10</td>\n",
              "      <td>2.74</td>\n",
              "      <td>24.5</td>\n",
              "      <td>96</td>\n",
              "      <td>2.05</td>\n",
              "      <td>0.76</td>\n",
              "      <td>0.56</td>\n",
              "      <td>1.35</td>\n",
              "      <td>9.20</td>\n",
              "      <td>0.61</td>\n",
              "      <td>1.60</td>\n",
              "      <td>560</td>\n",
              "      <td>0</td>\n",
              "      <td>1</td>\n",
              "      <td>2</td>\n",
              "      <td>0</td>\n",
              "    </tr>\n",
              "  </tbody>\n",
              "</table>\n",
              "<p>178 rows × 18 columns</p>\n",
              "</div>\n",
              "      <button class=\"colab-df-convert\" onclick=\"convertToInteractive('df-5655468f-9393-400b-8b87-af50646a2b98')\"\n",
              "              title=\"Convert this dataframe to an interactive table.\"\n",
              "              style=\"display:none;\">\n",
              "        \n",
              "  <svg xmlns=\"http://www.w3.org/2000/svg\" height=\"24px\"viewBox=\"0 0 24 24\"\n",
              "       width=\"24px\">\n",
              "    <path d=\"M0 0h24v24H0V0z\" fill=\"none\"/>\n",
              "    <path d=\"M18.56 5.44l.94 2.06.94-2.06 2.06-.94-2.06-.94-.94-2.06-.94 2.06-2.06.94zm-11 1L8.5 8.5l.94-2.06 2.06-.94-2.06-.94L8.5 2.5l-.94 2.06-2.06.94zm10 10l.94 2.06.94-2.06 2.06-.94-2.06-.94-.94-2.06-.94 2.06-2.06.94z\"/><path d=\"M17.41 7.96l-1.37-1.37c-.4-.4-.92-.59-1.43-.59-.52 0-1.04.2-1.43.59L10.3 9.45l-7.72 7.72c-.78.78-.78 2.05 0 2.83L4 21.41c.39.39.9.59 1.41.59.51 0 1.02-.2 1.41-.59l7.78-7.78 2.81-2.81c.8-.78.8-2.07 0-2.86zM5.41 20L4 18.59l7.72-7.72 1.47 1.35L5.41 20z\"/>\n",
              "  </svg>\n",
              "      </button>\n",
              "      \n",
              "  <style>\n",
              "    .colab-df-container {\n",
              "      display:flex;\n",
              "      flex-wrap:wrap;\n",
              "      gap: 12px;\n",
              "    }\n",
              "\n",
              "    .colab-df-convert {\n",
              "      background-color: #E8F0FE;\n",
              "      border: none;\n",
              "      border-radius: 50%;\n",
              "      cursor: pointer;\n",
              "      display: none;\n",
              "      fill: #1967D2;\n",
              "      height: 32px;\n",
              "      padding: 0 0 0 0;\n",
              "      width: 32px;\n",
              "    }\n",
              "\n",
              "    .colab-df-convert:hover {\n",
              "      background-color: #E2EBFA;\n",
              "      box-shadow: 0px 1px 2px rgba(60, 64, 67, 0.3), 0px 1px 3px 1px rgba(60, 64, 67, 0.15);\n",
              "      fill: #174EA6;\n",
              "    }\n",
              "\n",
              "    [theme=dark] .colab-df-convert {\n",
              "      background-color: #3B4455;\n",
              "      fill: #D2E3FC;\n",
              "    }\n",
              "\n",
              "    [theme=dark] .colab-df-convert:hover {\n",
              "      background-color: #434B5C;\n",
              "      box-shadow: 0px 1px 3px 1px rgba(0, 0, 0, 0.15);\n",
              "      filter: drop-shadow(0px 1px 2px rgba(0, 0, 0, 0.3));\n",
              "      fill: #FFFFFF;\n",
              "    }\n",
              "  </style>\n",
              "\n",
              "      <script>\n",
              "        const buttonEl =\n",
              "          document.querySelector('#df-5655468f-9393-400b-8b87-af50646a2b98 button.colab-df-convert');\n",
              "        buttonEl.style.display =\n",
              "          google.colab.kernel.accessAllowed ? 'block' : 'none';\n",
              "\n",
              "        async function convertToInteractive(key) {\n",
              "          const element = document.querySelector('#df-5655468f-9393-400b-8b87-af50646a2b98');\n",
              "          const dataTable =\n",
              "            await google.colab.kernel.invokeFunction('convertToInteractive',\n",
              "                                                     [key], {});\n",
              "          if (!dataTable) return;\n",
              "\n",
              "          const docLinkHtml = 'Like what you see? Visit the ' +\n",
              "            '<a target=\"_blank\" href=https://colab.research.google.com/notebooks/data_table.ipynb>data table notebook</a>'\n",
              "            + ' to learn more about interactive tables.';\n",
              "          element.innerHTML = '';\n",
              "          dataTable['output_type'] = 'display_data';\n",
              "          await google.colab.output.renderOutput(dataTable, element);\n",
              "          const docLink = document.createElement('div');\n",
              "          docLink.innerHTML = docLinkHtml;\n",
              "          element.appendChild(docLink);\n",
              "        }\n",
              "      </script>\n",
              "    </div>\n",
              "  </div>\n",
              "  "
            ]
          },
          "metadata": {},
          "execution_count": 68
        }
      ]
    },
    {
      "cell_type": "markdown",
      "source": [
        "# Summary\n",
        "1.   When hierarical Clustering was perfomed on Normalized data it resulted in 3 clusters.\n",
        "2.   when hierarical Clustering was performed on PCA data it resulted in 4 Clusters.\n",
        "3.   For K means it resulted in 3 clusters with both scaled and also with PCA Data.\n",
        "\n",
        "\n"
      ],
      "metadata": {
        "id": "hvty0JwyaVyz"
      },
      "id": "hvty0JwyaVyz"
    }
  ],
  "metadata": {
    "kernelspec": {
      "display_name": "Python 3 (ipykernel)",
      "language": "python",
      "name": "python3"
    },
    "language_info": {
      "codemirror_mode": {
        "name": "ipython",
        "version": 3
      },
      "file_extension": ".py",
      "mimetype": "text/x-python",
      "name": "python",
      "nbconvert_exporter": "python",
      "pygments_lexer": "ipython3",
      "version": "3.9.13"
    },
    "colab": {
      "provenance": []
    }
  },
  "nbformat": 4,
  "nbformat_minor": 5
}